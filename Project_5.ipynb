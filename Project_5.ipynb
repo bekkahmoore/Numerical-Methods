{
  "nbformat": 4,
  "nbformat_minor": 0,
  "metadata": {
    "colab": {
      "name": "Project 5",
      "provenance": [],
      "collapsed_sections": [],
      "include_colab_link": true
    },
    "kernelspec": {
      "name": "python3",
      "display_name": "Python 3"
    }
  },
  "cells": [
    {
      "cell_type": "markdown",
      "metadata": {
        "id": "view-in-github",
        "colab_type": "text"
      },
      "source": [
        "<a href=\"https://colab.research.google.com/github/bekkahmoore/Numerical-Methods/blob/main/Project_5.ipynb\" target=\"_parent\"><img src=\"https://colab.research.google.com/assets/colab-badge.svg\" alt=\"Open In Colab\"/></a>"
      ]
    },
    {
      "cell_type": "markdown",
      "metadata": {
        "id": "jJCgIkMnQNxR"
      },
      "source": [
        "#**Project 5**#\r\n",
        "##Sanjiv T, Kushal K, Aayush K, Bekkah M\r\n",
        "###Numerical Methods--Dr. Jacob"
      ]
    },
    {
      "cell_type": "markdown",
      "metadata": {
        "id": "o1jDhEW69la1"
      },
      "source": [
        "#Revising Gauss-Jordan Elimination mehthod\n",
        "This method helps us to solve the linear equations. \n",
        "This is in the form as shown below:\n",
        "\n",
        "\\begin{align}\n",
        "a_{1,1} x_1 +&amp;\\dots a_{1,n} x_n = y_1\\\\\n",
        "&amp;\\vdots\\\\\n",
        "a_{n,1}x_1+&amp;\\dots a_{n,n} x_n = y_n\n",
        "\\end{align}\n",
        "\n",
        "\n",
        "We will solve the equation by putting the above equation in the form shown as below:\n",
        "\n",
        "\n",
        "\\begin{array}{ccc|c}\n",
        "a_{1,1} &amp; \\dots &amp; a_{1,n} &amp; y_1\\\\\n",
        "\\vdots&amp;\\ddots&amp;\\vdots&amp;\\vdots\\\\\n",
        "a_{n,1} &amp;\\dots&amp; a_{n,n}&amp;y_n\n",
        "\\end{array}\n",
        "\n",
        "This is called augmented matrix form. And we will futher solve this problem."
      ]
    },
    {
      "cell_type": "markdown",
      "metadata": {
        "id": "ctfSpjcl91CG"
      },
      "source": [
        "We will need to use the Gausse-Jordan Elimination method that we constructed in Project 4, so we will copy that code here:"
      ]
    },
    {
      "cell_type": "code",
      "metadata": {
        "id": "3K8MSbIAQvs1"
      },
      "source": [
        "import math\r\n",
        "import numpy as np\r\n",
        "import scipy.linalg as la\r\n",
        "\r\n",
        "def adding_row(M,select_Row, modifierRow, V):\r\n",
        "  new_Row = M[select_Row,:]+V*M[modifierRow,:]\r\n",
        "  newMatrix = []\r\n",
        "  for i in range(len(M)):\r\n",
        "    if i != select_Row:\r\n",
        "      newMatrix.append(M[i,:])\r\n",
        "    else:\r\n",
        "      newMatrix.append(new_Row)\r\n",
        "  return np.array(newMatrix)\r\n",
        "\r\n",
        "\r\n",
        "  def Multiplying(M,row,constant):\r\n",
        "    newMatrix =[]\r\n",
        "  for i in range(len(M)):\r\n",
        "    if i != row:\r\n",
        "      newMatrix.append(M[i,:])\r\n",
        "    else:\r\n",
        "      newMatrix.append(1/M[row,constant]*M[row,:])\r\n",
        "  return np.array(newMatrix)\r\n",
        "\r\n",
        "  def gaussJordan(M):\r\n",
        "    newMatrix = M\r\n",
        "    for pivot in range(len(M)):\r\n",
        "      newMatrix = Multiplying(newMatrix,pivot,pivot)\r\n",
        "    for column in range(0,pivot):\r\n",
        "      newMatrix = adding_row(newMatrix,column,pivot,-newMatrix[column,pivot])\r\n",
        "    for column in range(pivot+1,len(M)):\r\n",
        "      newMatrix = adding_row(newMatrix,column,pivot,-newMatrix[column,pivot])\r\n",
        "    return newMatrix\r\n",
        "\r\n",
        " "
      ],
      "execution_count": null,
      "outputs": []
    },
    {
      "cell_type": "markdown",
      "metadata": {
        "id": "ieNrnssuSJ1N"
      },
      "source": [
        "#***Direct Method***\r\n"
      ]
    },
    {
      "cell_type": "markdown",
      "metadata": {
        "id": "UKC9fPhb8F7x"
      },
      "source": [
        "Direct method solves the  n+1 linear simultaneous equation to find the values of the function, estimating the missing data points in between.\n",
        "The direct method of interpolation is based on:\n",
        "\n",
        "Given n +1 data points, \n",
        "fit a polynomial of order n as \n",
        "  y = a + a x + ............... + a x 0 1 \n",
        "\n",
        "where a a an , ,......., 0 1 are n +1 real constants. Since n +1 values of y are given at n +1 values of x , one can write n +1 equations.\n",
        "\n",
        "Then, the n +1 constants, a a an , ,........., 0 1 can be found by solving the n +1 simultaneous linear equations."
      ]
    },
    {
      "cell_type": "code",
      "metadata": {
        "id": "-rLa0tan_9s6"
      },
      "source": [
        "def createRow(input,output,Polynomial):\r\n",
        "  array = []\r\n",
        "  for i in range(Polynomial+1):\r\n",
        "    array.append(input**i)\r\n",
        "  array.append(output)\r\n",
        "  return array"
      ],
      "execution_count": null,
      "outputs": []
    },
    {
      "cell_type": "code",
      "metadata": {
        "colab": {
          "base_uri": "https://localhost:8080/",
          "height": 164
        },
        "id": "Nn7oj2dcAGKv",
        "outputId": "82dfcdaa-efed-4af7-8a83-37d308d5845f"
      },
      "source": [
        "createRow(2,3,5)"
      ],
      "execution_count": null,
      "outputs": [
        {
          "output_type": "error",
          "ename": "NameError",
          "evalue": "ignored",
          "traceback": [
            "\u001b[0;31m---------------------------------------------------------------------------\u001b[0m",
            "\u001b[0;31mNameError\u001b[0m                                 Traceback (most recent call last)",
            "\u001b[0;32m<ipython-input-1-7d78db736673>\u001b[0m in \u001b[0;36m<module>\u001b[0;34m()\u001b[0m\n\u001b[0;32m----> 1\u001b[0;31m \u001b[0mcreateRow\u001b[0m\u001b[0;34m(\u001b[0m\u001b[0;36m2\u001b[0m\u001b[0;34m,\u001b[0m\u001b[0;36m3\u001b[0m\u001b[0;34m,\u001b[0m\u001b[0;36m5\u001b[0m\u001b[0;34m)\u001b[0m\u001b[0;34m\u001b[0m\u001b[0;34m\u001b[0m\u001b[0m\n\u001b[0m",
            "\u001b[0;31mNameError\u001b[0m: name 'createRow' is not defined"
          ]
        }
      ]
    },
    {
      "cell_type": "markdown",
      "metadata": {
        "id": "2d_KKlD6rTgr"
      },
      "source": [
        "Here we created the row."
      ]
    },
    {
      "cell_type": "code",
      "metadata": {
        "id": "-OPiIe4CEKWr"
      },
      "source": [
        "data =[[1,2],[1,1],[1,3],[2,1]]"
      ],
      "execution_count": null,
      "outputs": []
    },
    {
      "cell_type": "code",
      "metadata": {
        "id": "I9UoYZ0eEJ-A"
      },
      "source": [
        "import numpy as np\r\n",
        "def AugmentedMatrix(Array):\r\n",
        "  matrix = []\r\n",
        "  order = len(Array)-1\r\n",
        "  for i in range(len(Array)):\r\n",
        "    matrix.append(createRow(Array[i][0],Array[i][1],order))\r\n",
        "  return np.array(matrix)\r\n"
      ],
      "execution_count": null,
      "outputs": []
    },
    {
      "cell_type": "code",
      "metadata": {
        "colab": {
          "base_uri": "https://localhost:8080/"
        },
        "id": "YxgjSxISENJa",
        "outputId": "140b549b-cb0e-48a9-dcb5-964ea7e41fcf"
      },
      "source": [
        "AugmentedMatrix(data)"
      ],
      "execution_count": null,
      "outputs": [
        {
          "output_type": "execute_result",
          "data": {
            "text/plain": [
              "array([[1, 1, 1, 1, 2],\n",
              "       [1, 1, 1, 1, 1],\n",
              "       [1, 1, 1, 1, 3],\n",
              "       [1, 2, 4, 8, 1]])"
            ]
          },
          "metadata": {
            "tags": []
          },
          "execution_count": 107
        }
      ]
    },
    {
      "cell_type": "markdown",
      "metadata": {
        "id": "Hk6OHK_urZ01"
      },
      "source": [
        "We are about the solve the augmented matrix."
      ]
    },
    {
      "cell_type": "code",
      "metadata": {
        "colab": {
          "base_uri": "https://localhost:8080/",
          "height": 35
        },
        "id": "VoOk18WgEVfE",
        "outputId": "d68e601e-8c64-4f11-9086-b6a0bd46cb7d"
      },
      "source": [
        "(AugmentedMatrix(data))[:,-1]\r\n",
        "\r\n",
        "string = ''\r\n",
        "for i in range(len((AugmentedMatrix(data))[:,-1])):\r\n",
        "  coef = (AugmentedMatrix(data))[i,-1]\r\n",
        "  string = string + '+{}'.format(coef) + r'x^{}'.format(i)\r\n",
        "\r\n",
        "string"
      ],
      "execution_count": null,
      "outputs": [
        {
          "output_type": "execute_result",
          "data": {
            "application/vnd.google.colaboratory.intrinsic+json": {
              "type": "string"
            },
            "text/plain": [
              "'+2x^0+1x^1+3x^2+1x^3'"
            ]
          },
          "metadata": {
            "tags": []
          },
          "execution_count": 111
        }
      ]
    },
    {
      "cell_type": "code",
      "metadata": {
        "id": "Qn360roSEYeQ"
      },
      "source": [
        "def directSpline(Array, variable):\r\n",
        "  coefficients = (AugmentedMatrix(Array))[:,-1]\r\n",
        "  value = 0\r\n",
        "  for i in range(len(coefficients)):\r\n",
        "    value = value + coefficients[i]*variable**i\r\n",
        "  return value\r\n"
      ],
      "execution_count": null,
      "outputs": []
    },
    {
      "cell_type": "code",
      "metadata": {
        "colab": {
          "base_uri": "https://localhost:8080/"
        },
        "id": "UKjcU_7AEacz",
        "outputId": "7a78f9aa-9ddd-4133-ccd0-dcc28309c38b"
      },
      "source": [
        "directSpline(data,2)"
      ],
      "execution_count": null,
      "outputs": [
        {
          "output_type": "execute_result",
          "data": {
            "text/plain": [
              "24"
            ]
          },
          "metadata": {
            "tags": []
          },
          "execution_count": 114
        }
      ]
    },
    {
      "cell_type": "code",
      "metadata": {
        "id": "Yj4qZuCTEc7s",
        "colab": {
          "base_uri": "https://localhost:8080/",
          "height": 231
        },
        "outputId": "eca7b1f0-747d-4b7e-9f9c-5d4eb172c408"
      },
      "source": [
        "import matplotlib.pyplot as plt\r\n",
        "import numpy as np\r\n",
        "\r\n",
        "def equation(x):\r\n",
        "  return 1/(1-x)\r\n",
        "\r\n",
        "x = np.arange( 0,10,.1)\r\n",
        "plt.scatter(np.array(data)[:,0],np.array(data)[:,1])\r\n",
        "plt.plot(x,directSpline(data,x))\r\n",
        "#plt.plot(x, equation(x))\r\n",
        "plt.title('Graph of Direct Spline')\r\n",
        "\r\n",
        "\r\n",
        "plt.show()"
      ],
      "execution_count": null,
      "outputs": [
        {
          "output_type": "error",
          "ename": "NameError",
          "evalue": "ignored",
          "traceback": [
            "\u001b[0;31m---------------------------------------------------------------------------\u001b[0m",
            "\u001b[0;31mNameError\u001b[0m                                 Traceback (most recent call last)",
            "\u001b[0;32m<ipython-input-2-0093f4de550e>\u001b[0m in \u001b[0;36m<module>\u001b[0;34m()\u001b[0m\n\u001b[1;32m      6\u001b[0m \u001b[0;34m\u001b[0m\u001b[0m\n\u001b[1;32m      7\u001b[0m \u001b[0mx\u001b[0m \u001b[0;34m=\u001b[0m \u001b[0mnp\u001b[0m\u001b[0;34m.\u001b[0m\u001b[0marange\u001b[0m\u001b[0;34m(\u001b[0m \u001b[0;36m0\u001b[0m\u001b[0;34m,\u001b[0m\u001b[0;36m10\u001b[0m\u001b[0;34m,\u001b[0m\u001b[0;36m.1\u001b[0m\u001b[0;34m)\u001b[0m\u001b[0;34m\u001b[0m\u001b[0;34m\u001b[0m\u001b[0m\n\u001b[0;32m----> 8\u001b[0;31m \u001b[0mplt\u001b[0m\u001b[0;34m.\u001b[0m\u001b[0mscatter\u001b[0m\u001b[0;34m(\u001b[0m\u001b[0mnp\u001b[0m\u001b[0;34m.\u001b[0m\u001b[0marray\u001b[0m\u001b[0;34m(\u001b[0m\u001b[0mdata\u001b[0m\u001b[0;34m)\u001b[0m\u001b[0;34m[\u001b[0m\u001b[0;34m:\u001b[0m\u001b[0;34m,\u001b[0m\u001b[0;36m0\u001b[0m\u001b[0;34m]\u001b[0m\u001b[0;34m,\u001b[0m\u001b[0mnp\u001b[0m\u001b[0;34m.\u001b[0m\u001b[0marray\u001b[0m\u001b[0;34m(\u001b[0m\u001b[0mdata\u001b[0m\u001b[0;34m)\u001b[0m\u001b[0;34m[\u001b[0m\u001b[0;34m:\u001b[0m\u001b[0;34m,\u001b[0m\u001b[0;36m1\u001b[0m\u001b[0;34m]\u001b[0m\u001b[0;34m)\u001b[0m\u001b[0;34m\u001b[0m\u001b[0;34m\u001b[0m\u001b[0m\n\u001b[0m\u001b[1;32m      9\u001b[0m \u001b[0mplt\u001b[0m\u001b[0;34m.\u001b[0m\u001b[0mplot\u001b[0m\u001b[0;34m(\u001b[0m\u001b[0mx\u001b[0m\u001b[0;34m,\u001b[0m\u001b[0mdirectSpline\u001b[0m\u001b[0;34m(\u001b[0m\u001b[0mdata\u001b[0m\u001b[0;34m,\u001b[0m\u001b[0mx\u001b[0m\u001b[0;34m)\u001b[0m\u001b[0;34m)\u001b[0m\u001b[0;34m\u001b[0m\u001b[0;34m\u001b[0m\u001b[0m\n\u001b[1;32m     10\u001b[0m \u001b[0;31m#plt.plot(x, equation(x))\u001b[0m\u001b[0;34m\u001b[0m\u001b[0;34m\u001b[0m\u001b[0;34m\u001b[0m\u001b[0m\n",
            "\u001b[0;31mNameError\u001b[0m: name 'data' is not defined"
          ]
        }
      ]
    },
    {
      "cell_type": "markdown",
      "metadata": {
        "id": "LKfFXw47Un4A"
      },
      "source": [
        "#***Linear Spline***"
      ]
    },
    {
      "cell_type": "markdown",
      "metadata": {
        "id": "CL29yNPB9GJQ"
      },
      "source": [
        "In numerical methods and analysis, spline interpolation can be defines as a form of interpolation where the interpolant is a special type of piecewise polynomial called a spline."
      ]
    },
    {
      "cell_type": "markdown",
      "metadata": {
        "id": "ErgTuZjoV9GA"
      },
      "source": [
        "Our function that we have been utilizing this whole time is $\\frac{1}{1-x}$. We will examine this function on the interval [-3,1) since that's the most interesting part. "
      ]
    },
    {
      "cell_type": "code",
      "metadata": {
        "colab": {
          "base_uri": "https://localhost:8080/",
          "height": 315
        },
        "id": "xx9TP1TKE-ua",
        "outputId": "b2768843-1eeb-4f18-fe55-931b6e8ffb90"
      },
      "source": [
        "import numpy as np\r\n",
        "import matplotlib.pyplot as plt\r\n",
        "from scipy.interpolate import interp1d\r\n",
        "\r\n",
        "def function(x):\r\n",
        "  return 1/(1-x)\r\n",
        "\r\n",
        "x = np.linspace(-3, 1, num=5, endpoint=True)\r\n",
        "y = function(x)\r\n",
        "LinearInterpolate = interp1d(x,y)\r\n",
        "Linear2 = interp1d(x, y, kind='linear')\r\n",
        "\r\n",
        "xnew = np.linspace(-3, 1, num=5, endpoint=True)\r\n",
        "import matplotlib.pyplot as plt\r\n",
        "plt.plot(x, y, 'o',xnew,LinearInterpolate(xnew),\"r\",x,function(x),\"g\")\r\n",
        "plt.plot(range(0,1))\r\n",
        "plt.title(\"Graph of Linear Spline With 5 Points\")\r\n",
        "plt.legend(['Data', 'Spline','Actual Function'], loc='best')\r\n",
        "plt.show()"
      ],
      "execution_count": null,
      "outputs": [
        {
          "output_type": "stream",
          "text": [
            "/usr/local/lib/python3.6/dist-packages/ipykernel_launcher.py:6: RuntimeWarning: divide by zero encountered in true_divide\n",
            "  \n"
          ],
          "name": "stderr"
        },
        {
          "output_type": "display_data",
          "data": {
            "image/png": "[encoded data removed]",
            "text/plain": [
              "<Figure size 432x288 with 1 Axes>"
            ]
          },
          "metadata": {
            "tags": [],
            "needs_background": "light"
          }
        }
      ]
    },
    {
      "cell_type": "markdown",
      "metadata": {
        "id": "he2sWmmtKY1x"
      },
      "source": [
        "The actual function and the spline are directly on top of each other, so I know there is something wrong with my code here. I just can't seem to figure out what. I used the scipy interpolate built in function \"interp1d\". This seemed to be the simplest way I could figure out how to interpolate. \r\n",
        "\r\n",
        "We will now do this again, but this time with 20 evenly spaced points."
      ]
    },
    {
      "cell_type": "code",
      "metadata": {
        "colab": {
          "base_uri": "https://localhost:8080/",
          "height": 315
        },
        "id": "5DAZi2Q7Kubq",
        "outputId": "294249d7-c9dc-42e6-8f38-d7b332a08252"
      },
      "source": [
        "x = np.linspace(-3, 1, num=20, endpoint=True)\r\n",
        "y = function(x)\r\n",
        "LinearInterpolate = interp1d(x, y)\r\n",
        "Linear2 = interp1d(x, y, kind='linear')\r\n",
        "\r\n",
        "xnew = np.linspace(-3, 1, num=20, endpoint=True)\r\n",
        "import matplotlib.pyplot as plt\r\n",
        "plt.plot(x, y, 'o',xnew,LinearInterpolate(xnew),\"r\",x, function(x),\"g\")\r\n",
        "plt.plot(range(0,1))\r\n",
        "plt.title(\"Graph of Linear Spline With 20 Points\")\r\n",
        "plt.legend(['Data','Spline', 'Actual Function'], loc='best')\r\n",
        "plt.show()"
      ],
      "execution_count": null,
      "outputs": [
        {
          "output_type": "stream",
          "text": [
            "/usr/local/lib/python3.6/dist-packages/ipykernel_launcher.py:3: RuntimeWarning: divide by zero encountered in true_divide\n",
            "  This is separate from the ipykernel package so we can avoid doing imports until\n"
          ],
          "name": "stderr"
        },
        {
          "output_type": "display_data",
          "data": {
            "image/png": "[encoded data removed]",
            "text/plain": [
              "<Figure size 432x288 with 1 Axes>"
            ]
          },
          "metadata": {
            "tags": [],
            "needs_background": "light"
          }
        }
      ]
    },
    {
      "cell_type": "markdown",
      "metadata": {
        "id": "kLfL7XvfoLDC"
      },
      "source": [
        "#Limitations of Spline Function:\n",
        "In our project, we can see that the spline function is forced to fit all the data which gives inconsistency in the graph. There might be data that includes error in between the mid points of the data but we are not pretty sure aboout that. \n"
      ]
    },
    {
      "cell_type": "markdown",
      "metadata": {
        "id": "Gc_BU_sbNBGg"
      },
      "source": [
        "We can see that the more points we use to approximate, the more smooth and accurate the spline is. Here, the spline and the actual function line up perfectly, but that makes sense because using more points is what allows us to get closer to the actual function. "
      ]
    },
    {
      "cell_type": "markdown",
      "metadata": {
        "id": "aH-FXh78pgem"
      },
      "source": [
        "#Choosing Points:\n",
        "We have choosen the data points in the graph as so that the graph data looks consistent. We could have taken the data out of the window but the graph would be more complex to understand. So, interpolation gives us good approximations but there are limitations that we need to be aware of and solve the problem accordingly."
      ]
    }
  ]
}