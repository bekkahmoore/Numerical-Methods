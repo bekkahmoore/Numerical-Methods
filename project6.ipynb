{
  "nbformat": 4,
  "nbformat_minor": 0,
  "metadata": {
    "colab": {
      "name": "project6",
      "provenance": [],
      "collapsed_sections": [],
      "include_colab_link": true
    },
    "kernelspec": {
      "name": "python3",
      "display_name": "Python 3"
    }
  },
  "cells": [
    {
      "cell_type": "markdown",
      "metadata": {
        "id": "view-in-github",
        "colab_type": "text"
      },
      "source": [
        "<a href=\"https://colab.research.google.com/github/bekkahmoore/Numerical-Methods/blob/main/project6.ipynb\" target=\"_parent\"><img src=\"https://colab.research.google.com/assets/colab-badge.svg\" alt=\"Open In Colab\"/></a>"
      ]
    },
    {
      "cell_type": "markdown",
      "metadata": {
        "id": "ixnfsluJkKOO"
      },
      "source": [
        "#Project 6\r\n",
        "#LINEAR REGRESSION\r\n",
        "Linear regression is an approach to model the relationship between a scalar response and single or multiple explanatory variables.\r\n",
        "There are Simple Linear Regresion with one variables in it and Multiple Linear Regression with two variables in it.\r\n"
      ]
    },
    {
      "cell_type": "code",
      "metadata": {
        "id": "9pADcVE4zDo0"
      },
      "source": [
        "import numpy as np\r\n",
        "from scipy import stats\r\n",
        "import matplotlib.pyplot as plt\r\n",
        "import pandas as pa\r\n",
        "\r\n",
        "\r\n",
        "%matplotlib inline"
      ],
      "execution_count": null,
      "outputs": []
    },
    {
      "cell_type": "code",
      "metadata": {
        "id": "XBfn5DVOYlIN"
      },
      "source": [
        "data = pa.read_csv('https://raw.githubusercontent.com/selva86/datasets/master/supermarket_sales.csv')\r\n"
      ],
      "execution_count": null,
      "outputs": []
    },
    {
      "cell_type": "markdown",
      "metadata": {
        "id": "6hE2dclKllRZ"
      },
      "source": [
        "#Data\r\n",
        "Now we will input our data."
      ]
    },
    {
      "cell_type": "code",
      "metadata": {
        "colab": {
          "base_uri": "https://localhost:8080/",
          "height": 643
        },
        "id": "X2ImoXeDYvDW",
        "outputId": "23744575-9f46-4b7c-fc71-ba81bd16f97b"
      },
      "source": [
        "data"
      ],
      "execution_count": null,
      "outputs": [
        {
          "output_type": "execute_result",
          "data": {
            "text/html": [
              "<div>\n",
              "<style scoped>\n",
              "    .dataframe tbody tr th:only-of-type {\n",
              "        vertical-align: middle;\n",
              "    }\n",
              "\n",
              "    .dataframe tbody tr th {\n",
              "        vertical-align: top;\n",
              "    }\n",
              "\n",
              "    .dataframe thead th {\n",
              "        text-align: right;\n",
              "    }\n",
              "</style>\n",
              "<table border=\"1\" class=\"dataframe\">\n",
              "  <thead>\n",
              "    <tr style=\"text-align: right;\">\n",
              "      <th></th>\n",
              "      <th>Invoice ID</th>\n",
              "      <th>Branch</th>\n",
              "      <th>City</th>\n",
              "      <th>Customer type</th>\n",
              "      <th>Gender</th>\n",
              "      <th>Product line</th>\n",
              "      <th>Unit price</th>\n",
              "      <th>Quantity</th>\n",
              "      <th>Tax 5%</th>\n",
              "      <th>Total</th>\n",
              "      <th>Date</th>\n",
              "      <th>Time</th>\n",
              "      <th>Payment</th>\n",
              "      <th>cogs</th>\n",
              "      <th>gross margin percentage</th>\n",
              "      <th>gross income</th>\n",
              "      <th>Rating</th>\n",
              "    </tr>\n",
              "  </thead>\n",
              "  <tbody>\n",
              "    <tr>\n",
              "      <th>0</th>\n",
              "      <td>750-67-8428</td>\n",
              "      <td>A</td>\n",
              "      <td>Yangon</td>\n",
              "      <td>Member</td>\n",
              "      <td>Female</td>\n",
              "      <td>Health and beauty</td>\n",
              "      <td>74.69</td>\n",
              "      <td>7</td>\n",
              "      <td>26.1415</td>\n",
              "      <td>548.9715</td>\n",
              "      <td>1/5/2019</td>\n",
              "      <td>13:08</td>\n",
              "      <td>Ewallet</td>\n",
              "      <td>522.83</td>\n",
              "      <td>4.761905</td>\n",
              "      <td>26.1415</td>\n",
              "      <td>9.1</td>\n",
              "    </tr>\n",
              "    <tr>\n",
              "      <th>1</th>\n",
              "      <td>226-31-3081</td>\n",
              "      <td>C</td>\n",
              "      <td>Naypyitaw</td>\n",
              "      <td>Normal</td>\n",
              "      <td>Female</td>\n",
              "      <td>Electronic accessories</td>\n",
              "      <td>15.28</td>\n",
              "      <td>5</td>\n",
              "      <td>3.8200</td>\n",
              "      <td>80.2200</td>\n",
              "      <td>3/8/2019</td>\n",
              "      <td>10:29</td>\n",
              "      <td>Cash</td>\n",
              "      <td>76.40</td>\n",
              "      <td>4.761905</td>\n",
              "      <td>3.8200</td>\n",
              "      <td>9.6</td>\n",
              "    </tr>\n",
              "    <tr>\n",
              "      <th>2</th>\n",
              "      <td>631-41-3108</td>\n",
              "      <td>A</td>\n",
              "      <td>Yangon</td>\n",
              "      <td>Normal</td>\n",
              "      <td>Male</td>\n",
              "      <td>Home and lifestyle</td>\n",
              "      <td>46.33</td>\n",
              "      <td>7</td>\n",
              "      <td>16.2155</td>\n",
              "      <td>340.5255</td>\n",
              "      <td>3/3/2019</td>\n",
              "      <td>13:23</td>\n",
              "      <td>Credit card</td>\n",
              "      <td>324.31</td>\n",
              "      <td>4.761905</td>\n",
              "      <td>16.2155</td>\n",
              "      <td>7.4</td>\n",
              "    </tr>\n",
              "    <tr>\n",
              "      <th>3</th>\n",
              "      <td>123-19-1176</td>\n",
              "      <td>A</td>\n",
              "      <td>Yangon</td>\n",
              "      <td>Member</td>\n",
              "      <td>Male</td>\n",
              "      <td>Health and beauty</td>\n",
              "      <td>58.22</td>\n",
              "      <td>8</td>\n",
              "      <td>23.2880</td>\n",
              "      <td>489.0480</td>\n",
              "      <td>1/27/2019</td>\n",
              "      <td>20:33</td>\n",
              "      <td>Ewallet</td>\n",
              "      <td>465.76</td>\n",
              "      <td>4.761905</td>\n",
              "      <td>23.2880</td>\n",
              "      <td>8.4</td>\n",
              "    </tr>\n",
              "    <tr>\n",
              "      <th>4</th>\n",
              "      <td>373-73-7910</td>\n",
              "      <td>A</td>\n",
              "      <td>Yangon</td>\n",
              "      <td>Normal</td>\n",
              "      <td>Male</td>\n",
              "      <td>Sports and travel</td>\n",
              "      <td>86.31</td>\n",
              "      <td>7</td>\n",
              "      <td>30.2085</td>\n",
              "      <td>634.3785</td>\n",
              "      <td>2/8/2019</td>\n",
              "      <td>10:37</td>\n",
              "      <td>Ewallet</td>\n",
              "      <td>604.17</td>\n",
              "      <td>4.761905</td>\n",
              "      <td>30.2085</td>\n",
              "      <td>5.3</td>\n",
              "    </tr>\n",
              "    <tr>\n",
              "      <th>...</th>\n",
              "      <td>...</td>\n",
              "      <td>...</td>\n",
              "      <td>...</td>\n",
              "      <td>...</td>\n",
              "      <td>...</td>\n",
              "      <td>...</td>\n",
              "      <td>...</td>\n",
              "      <td>...</td>\n",
              "      <td>...</td>\n",
              "      <td>...</td>\n",
              "      <td>...</td>\n",
              "      <td>...</td>\n",
              "      <td>...</td>\n",
              "      <td>...</td>\n",
              "      <td>...</td>\n",
              "      <td>...</td>\n",
              "      <td>...</td>\n",
              "    </tr>\n",
              "    <tr>\n",
              "      <th>995</th>\n",
              "      <td>233-67-5758</td>\n",
              "      <td>C</td>\n",
              "      <td>Naypyitaw</td>\n",
              "      <td>Normal</td>\n",
              "      <td>Male</td>\n",
              "      <td>Health and beauty</td>\n",
              "      <td>40.35</td>\n",
              "      <td>1</td>\n",
              "      <td>2.0175</td>\n",
              "      <td>42.3675</td>\n",
              "      <td>1/29/2019</td>\n",
              "      <td>13:46</td>\n",
              "      <td>Ewallet</td>\n",
              "      <td>40.35</td>\n",
              "      <td>4.761905</td>\n",
              "      <td>2.0175</td>\n",
              "      <td>6.2</td>\n",
              "    </tr>\n",
              "    <tr>\n",
              "      <th>996</th>\n",
              "      <td>303-96-2227</td>\n",
              "      <td>B</td>\n",
              "      <td>Mandalay</td>\n",
              "      <td>Normal</td>\n",
              "      <td>Female</td>\n",
              "      <td>Home and lifestyle</td>\n",
              "      <td>97.38</td>\n",
              "      <td>10</td>\n",
              "      <td>48.6900</td>\n",
              "      <td>1022.4900</td>\n",
              "      <td>3/2/2019</td>\n",
              "      <td>17:16</td>\n",
              "      <td>Ewallet</td>\n",
              "      <td>973.80</td>\n",
              "      <td>4.761905</td>\n",
              "      <td>48.6900</td>\n",
              "      <td>4.4</td>\n",
              "    </tr>\n",
              "    <tr>\n",
              "      <th>997</th>\n",
              "      <td>727-02-1313</td>\n",
              "      <td>A</td>\n",
              "      <td>Yangon</td>\n",
              "      <td>Member</td>\n",
              "      <td>Male</td>\n",
              "      <td>Food and beverages</td>\n",
              "      <td>31.84</td>\n",
              "      <td>1</td>\n",
              "      <td>1.5920</td>\n",
              "      <td>33.4320</td>\n",
              "      <td>2/9/2019</td>\n",
              "      <td>13:22</td>\n",
              "      <td>Cash</td>\n",
              "      <td>31.84</td>\n",
              "      <td>4.761905</td>\n",
              "      <td>1.5920</td>\n",
              "      <td>7.7</td>\n",
              "    </tr>\n",
              "    <tr>\n",
              "      <th>998</th>\n",
              "      <td>347-56-2442</td>\n",
              "      <td>A</td>\n",
              "      <td>Yangon</td>\n",
              "      <td>Normal</td>\n",
              "      <td>Male</td>\n",
              "      <td>Home and lifestyle</td>\n",
              "      <td>65.82</td>\n",
              "      <td>1</td>\n",
              "      <td>3.2910</td>\n",
              "      <td>69.1110</td>\n",
              "      <td>2/22/2019</td>\n",
              "      <td>15:33</td>\n",
              "      <td>Cash</td>\n",
              "      <td>65.82</td>\n",
              "      <td>4.761905</td>\n",
              "      <td>3.2910</td>\n",
              "      <td>4.1</td>\n",
              "    </tr>\n",
              "    <tr>\n",
              "      <th>999</th>\n",
              "      <td>849-09-3807</td>\n",
              "      <td>A</td>\n",
              "      <td>Yangon</td>\n",
              "      <td>Member</td>\n",
              "      <td>Female</td>\n",
              "      <td>Fashion accessories</td>\n",
              "      <td>88.34</td>\n",
              "      <td>7</td>\n",
              "      <td>30.9190</td>\n",
              "      <td>649.2990</td>\n",
              "      <td>2/18/2019</td>\n",
              "      <td>13:28</td>\n",
              "      <td>Cash</td>\n",
              "      <td>618.38</td>\n",
              "      <td>4.761905</td>\n",
              "      <td>30.9190</td>\n",
              "      <td>6.6</td>\n",
              "    </tr>\n",
              "  </tbody>\n",
              "</table>\n",
              "<p>1000 rows × 17 columns</p>\n",
              "</div>"
            ],
            "text/plain": [
              "      Invoice ID Branch  ... gross income Rating\n",
              "0    750-67-8428      A  ...      26.1415    9.1\n",
              "1    226-31-3081      C  ...       3.8200    9.6\n",
              "2    631-41-3108      A  ...      16.2155    7.4\n",
              "3    123-19-1176      A  ...      23.2880    8.4\n",
              "4    373-73-7910      A  ...      30.2085    5.3\n",
              "..           ...    ...  ...          ...    ...\n",
              "995  233-67-5758      C  ...       2.0175    6.2\n",
              "996  303-96-2227      B  ...      48.6900    4.4\n",
              "997  727-02-1313      A  ...       1.5920    7.7\n",
              "998  347-56-2442      A  ...       3.2910    4.1\n",
              "999  849-09-3807      A  ...      30.9190    6.6\n",
              "\n",
              "[1000 rows x 17 columns]"
            ]
          },
          "metadata": {
            "tags": []
          },
          "execution_count": 5
        }
      ]
    },
    {
      "cell_type": "markdown",
      "metadata": {
        "id": "Bf9iWTHxl6ot"
      },
      "source": [
        "#Plotting The Graph\r\n",
        "We will plot the linear regression graph with the data provided above."
      ]
    },
    {
      "cell_type": "code",
      "metadata": {
        "id": "gyD7DzfyY1os",
        "colab": {
          "base_uri": "https://localhost:8080/",
          "height": 283
        },
        "outputId": "e51da382-ad8d-47e1-c957-96e0b02d33ff"
      },
      "source": [
        "plt.scatter(data[\"Unit price\"]+data[\"Quantity\"]+data[\"Tax 5%\"],data[\"Total\"])"
      ],
      "execution_count": null,
      "outputs": [
        {
          "output_type": "execute_result",
          "data": {
            "text/plain": [
              "<matplotlib.collections.PathCollection at 0x7f64774023c8>"
            ]
          },
          "metadata": {
            "tags": []
          },
          "execution_count": 6
        },
        {
          "output_type": "display_data",
          "data": {
            "image/png": "[encoded data removed]",
            "text/plain": [
              "<Figure size 432x288 with 1 Axes>"
            ]
          },
          "metadata": {
            "tags": [],
            "needs_background": "light"
          }
        }
      ]
    },
    {
      "cell_type": "code",
      "metadata": {
        "colab": {
          "base_uri": "https://localhost:8080/"
        },
        "id": "B4Qi5SO5ZiUz",
        "outputId": "9ea3b876-1462-4b92-d210-c6e7b78dfc3d"
      },
      "source": [
        "kstats.pearsonr(data[\"Unit price\"]+data[\"Quantity\"]+data[\"Tax 5%\"],data[\"Total\"])"
      ],
      "execution_count": null,
      "outputs": [
        {
          "output_type": "execute_result",
          "data": {
            "text/plain": [
              "(0.8507801575906174, 4.18608030869628e-281)"
            ]
          },
          "metadata": {
            "tags": []
          },
          "execution_count": 7
        }
      ]
    },
    {
      "cell_type": "code",
      "metadata": {
        "colab": {
          "base_uri": "https://localhost:8080/",
          "height": 283
        },
        "id": "h5irii0LZy_k",
        "outputId": "ae63f084-872a-44dd-9b1c-8d7fd9d84167"
      },
      "source": [
        "plt.scatter(data[\"Unit price\"],data[\"Total\"])"
      ],
      "execution_count": null,
      "outputs": [
        {
          "output_type": "execute_result",
          "data": {
            "text/plain": [
              "<matplotlib.collections.PathCollection at 0x7f6476edc5c0>"
            ]
          },
          "metadata": {
            "tags": []
          },
          "execution_count": 8
        },
        {
          "output_type": "display_data",
          "data": {
            "image/png": "[encoded data removed]",
            "text/plain": [
              "<Figure size 432x288 with 1 Axes>"
            ]
          },
          "metadata": {
            "tags": [],
            "needs_background": "light"
          }
        }
      ]
    },
    {
      "cell_type": "code",
      "metadata": {
        "colab": {
          "base_uri": "https://localhost:8080/"
        },
        "id": "1CK1PtqGZ3IU",
        "outputId": "daa3b2d1-4f46-4495-81db-d76428efd351"
      },
      "source": [
        "stats.pearsonr(data[\"Unit price\"],data[\"Total\"])"
      ],
      "execution_count": null,
      "outputs": [
        {
          "output_type": "execute_result",
          "data": {
            "text/plain": [
              "(0.6339620885890692, 1.60995209236489e-113)"
            ]
          },
          "metadata": {
            "tags": []
          },
          "execution_count": 9
        }
      ]
    },
    {
      "cell_type": "markdown",
      "metadata": {
        "id": "SAXjC_V8tpoE"
      },
      "source": [
        "#Drawing Regression Line\r\n",
        "we will draw the regression lines  by using the scipy stats package.$$\r\n",
        "we have,$$\r\n",
        " a regression of the form,\r\n",
        " $\\hat y = a_0+a_1 x$\r\n",
        "$$\r\n",
        "a_1=\\frac{\\sum x_i y_i -n \\bar x \\bar y}{\\sum x_i^2 - n\\bar x ^2}\r\n",
        "$$\r\n",
        "and $$\r\n",
        "a_0 = \\bar y - a_1 \\bar x\r\n",
        "$$\r\n"
      ]
    },
    {
      "cell_type": "code",
      "metadata": {
        "id": "NXN_cpUrLHeN"
      },
      "source": [
        "def sum(l):\r\n",
        "  total = 0\r\n",
        "  for i in l:\r\n",
        "    total = total + i\r\n",
        "  return total\r\n",
        "\r\n",
        "def squareAndSum(l1,l2):\r\n",
        "  total = 0\r\n",
        "  for i in range(len(l1)):\r\n",
        "    total = total + l1[i]*l2[i]\r\n",
        "  return total"
      ],
      "execution_count": null,
      "outputs": []
    },
    {
      "cell_type": "code",
      "metadata": {
        "id": "FV5OZ9UyLL3O"
      },
      "source": [
        "n = len(data['Unit price'])\r\n",
        "xbar = sum(data['Unit price'])/n\r\n",
        "ybar = sum(data['Total'])/n\r\n",
        "xy = squareAndSum(data['Unit price'],data['Total'])\r\n",
        "xx = squareAndSum(data['Unit price'],data['Total'])\r\n",
        "\r\n",
        "a1 = (xy-n*xbar*ybar)/(xx-n*xbar**2)\r\n",
        "a0 = ybar - a1*xbar"
      ],
      "execution_count": null,
      "outputs": []
    },
    {
      "cell_type": "code",
      "metadata": {
        "id": "TD5OV9qRLimo"
      },
      "source": [
        "def fomulaRegression(variable,slope, intercept):\r\n",
        "  return variable*slope+intercept"
      ],
      "execution_count": null,
      "outputs": []
    },
    {
      "cell_type": "code",
      "metadata": {
        "colab": {
          "base_uri": "https://localhost:8080/"
        },
        "id": "yZaIAzrVLp9H",
        "outputId": "e7264a0f-3984-44b1-b503-e7b857305b8f"
      },
      "source": [
        "print(a1)\r\n",
        "a0"
      ],
      "execution_count": null,
      "outputs": [
        {
          "output_type": "stream",
          "text": [
            "0.21707559992020736\n"
          ],
          "name": "stdout"
        },
        {
          "output_type": "execute_result",
          "data": {
            "text/plain": [
              "310.8816879814143"
            ]
          },
          "metadata": {
            "tags": []
          },
          "execution_count": 13
        }
      ]
    },
    {
      "cell_type": "code",
      "metadata": {
        "colab": {
          "base_uri": "https://localhost:8080/"
        },
        "id": "2OQdmgWegwme",
        "outputId": "9e1235d7-9c97-4d6c-8637-24a58554b8ba"
      },
      "source": [
        "stats.linregress(data[\"Unit price\"],data[\"Total\"])"
      ],
      "execution_count": null,
      "outputs": [
        {
          "output_type": "execute_result",
          "data": {
            "text/plain": [
              "LinregressResult(slope=5.883531504840838, intercept=-4.581981796594846, rvalue=0.633962088589069, pvalue=1.6099520923650332e-113, stderr=0.22719226818258975)"
            ]
          },
          "metadata": {
            "tags": []
          },
          "execution_count": 14
        }
      ]
    },
    {
      "cell_type": "code",
      "metadata": {
        "id": "RNFQZWXsg4z-"
      },
      "source": [
        "km = stats.linregress(data[\"Unit price\"],data[\"Total\"])[0]\r\n",
        "b = stats.linregress(data[\"Unit price\"],data[\"Total\"])[1]\r\n",
        "def y(x):\r\n",
        "    return(m*x+b)"
      ],
      "execution_count": null,
      "outputs": []
    },
    {
      "cell_type": "code",
      "metadata": {
        "colab": {
          "base_uri": "https://localhost:8080/"
        },
        "id": "5zadvs-xhFCF",
        "outputId": "9d639e30-5389-49a8-ded1-e799b3df5559"
      },
      "source": [
        "y(4)\r\n"
      ],
      "execution_count": null,
      "outputs": [
        {
          "output_type": "execute_result",
          "data": {
            "text/plain": [
              "18.952144222768506"
            ]
          },
          "metadata": {
            "tags": []
          },
          "execution_count": 16
        }
      ]
    },
    {
      "cell_type": "code",
      "metadata": {
        "colab": {
          "base_uri": "https://localhost:8080/",
          "height": 283
        },
        "id": "T_-4rqTLhNYm",
        "outputId": "15d49260-e64e-4691-b0f2-9bbddda50229"
      },
      "source": [
        "x = np.arange( 0,200,2)\r\n",
        "plt.scatter(data[\"Unit price\"],data[\"Total\"])\r\n",
        "plt.plot(x,y(x))"
      ],
      "execution_count": null,
      "outputs": [
        {
          "output_type": "execute_result",
          "data": {
            "text/plain": [
              "[<matplotlib.lines.Line2D at 0x7f6476e91828>]"
            ]
          },
          "metadata": {
            "tags": []
          },
          "execution_count": 17
        },
        {
          "output_type": "display_data",
          "data": {
            "image/png": "[encoded data removed]",
            "text/plain": [
              "<Figure size 432x288 with 1 Axes>"
            ]
          },
          "metadata": {
            "tags": [],
            "needs_background": "light"
          }
        }
      ]
    },
    {
      "cell_type": "code",
      "metadata": {
        "id": "LvU4LUpfhwTj"
      },
      "source": [
        "s = 0\r\n",
        "for i in range (0,len(data[\"Unit price\"])):\r\n",
        "    s = s+y(data[\"Unit price\"][i])-data[\"Total\"][i]"
      ],
      "execution_count": null,
      "outputs": []
    },
    {
      "cell_type": "code",
      "metadata": {
        "colab": {
          "base_uri": "https://localhost:8080/"
        },
        "id": "xpRe8W9th7no",
        "outputId": "140ee750-ff9c-47da-c382-8f2047ac253a"
      },
      "source": [
        "s"
      ],
      "execution_count": null,
      "outputs": [
        {
          "output_type": "execute_result",
          "data": {
            "text/plain": [
              "-6.843947630841285e-11"
            ]
          },
          "metadata": {
            "tags": []
          },
          "execution_count": 19
        }
      ]
    },
    {
      "cell_type": "code",
      "metadata": {
        "id": "m3_AM-XkiBz5"
      },
      "source": [
        "ss = 0\r\n",
        "for i in range (0,len(data[\"Unit price\"])):\r\n",
        "    ss = ss+(y(data[\"Unit price\"][i])-data[\"Total\"][i])**2"
      ],
      "execution_count": null,
      "outputs": []
    },
    {
      "cell_type": "code",
      "metadata": {
        "colab": {
          "base_uri": "https://localhost:8080/"
        },
        "id": "HYuoOCiEiJXP",
        "outputId": "fb6fcad1-aa35-4b8c-e429-3402986f459c"
      },
      "source": [
        "ss"
      ],
      "execution_count": null,
      "outputs": [
        {
          "output_type": "execute_result",
          "data": {
            "text/plain": [
              "36124245.73765418"
            ]
          },
          "metadata": {
            "tags": []
          },
          "execution_count": 21
        }
      ]
    },
    {
      "cell_type": "markdown",
      "metadata": {
        "id": "umrhxPYewAiX"
      },
      "source": [
        "# Was it appropriate to perform linear regression?\r\n",
        "Linear regression is actually approriate to perform in this because the dependent Y variable has a linear relationship with the independent variable X. To confirm, the XY scatter plot is linear as well as the residual plot has a random pattern."
      ]
    },
    {
      "cell_type": "markdown",
      "metadata": {
        "id": "oA8lrrp2wLbj"
      },
      "source": [
        "#***Nonlinear Regression***#"
      ]
    },
    {
      "cell_type": "markdown",
      "metadata": {
        "id": "oXJoJtvxxIjg"
      },
      "source": [
        "Two columns that I feel have a nonlinear relationship are the Quantity purchased and Rating. I will display that with a scatterplot below. My hypothesis is that the relationship between the two data columns is \"the higher quantity people order, the higher their rating\". Ordering more must indicate the consumer likes the product, and a high rating would reflect that. "
      ]
    },
    {
      "cell_type": "code",
      "metadata": {
        "colab": {
          "base_uri": "https://localhost:8080/",
          "height": 283
        },
        "id": "-isnWNzXwUN0",
        "outputId": "6e6fd173-8e27-4bd3-f91f-25902588d209"
      },
      "source": [
        "plt.scatter(data[\"Quantity\"],data[\"Rating\"])"
      ],
      "execution_count": null,
      "outputs": [
        {
          "output_type": "execute_result",
          "data": {
            "text/plain": [
              "<matplotlib.collections.PathCollection at 0x7f6476c14908>"
            ]
          },
          "metadata": {
            "tags": []
          },
          "execution_count": 36
        },
        {
          "output_type": "display_data",
          "data": {
            "image/png": "[encoded data removed]",
            "text/plain": [
              "<Figure size 432x288 with 1 Axes>"
            ]
          },
          "metadata": {
            "tags": [],
            "needs_background": "light"
          }
        }
      ]
    },
    {
      "cell_type": "code",
      "metadata": {
        "id": "HZ_kOG0Byw6-"
      },
      "source": [
        ""
      ],
      "execution_count": null,
      "outputs": []
    },
    {
      "cell_type": "code",
      "metadata": {
        "id": "ON2Sa0TuiOAq"
      },
      "source": [
        "x = sum(data['Quantity'])\r\n",
        "xx = squareAndSum(data['Quantity'],data['Quantity'])\r\n",
        "xxx = squareAndSum(data['Quantity']**2,data['Quantity'])\r\n",
        "xxxx = squareAndSum(data['Quantity']**3,data['Quantity'])\r\n",
        "\r\n",
        "M = [[n,x,xx,sum(data['Rating'])]\r\n",
        "          ,[x,xx,xxx,squareAndSum(data['Quantity'],data['Rating'])]\r\n",
        "          ,[xx,xxx,xxxx,squareAndSum(data['Quantity']**2,data['Rating'])]\r\n",
        "          ]"
      ],
      "execution_count": null,
      "outputs": []
    },
    {
      "cell_type": "markdown",
      "metadata": {
        "id": "Cg3qD0xevUsV"
      },
      "source": [
        "using the definition of Gauss Jordan Methods and Matrices:"
      ]
    },
    {
      "cell_type": "code",
      "metadata": {
        "id": "Nsrl03IQiro9"
      },
      "source": [
        "def adding_row(M,select_Row, modifierRow, V):\r\n",
        "  new_Row = M[select_Row,:]+V*M[modifierRow,:]\r\n",
        "  newMatrix = []\r\n",
        "  for i in range(len(M)):\r\n",
        "    if i != select_Row:\r\n",
        "      newMatrix.append(M[i,:])\r\n",
        "    else:\r\n",
        "      newMatrix.append(new_Row)\r\n",
        "  return np.array(newMatrix)\r\n",
        "\r\n",
        "def Multiplying(M,row,constant):\r\n",
        "  newMatrix =[]\r\n",
        "  for i in range(len(M)):\r\n",
        "    if i != row:\r\n",
        "      newMatrix.append(M[i,:])\r\n",
        "    else:\r\n",
        "      newMatrix.append(1/M[row,constant]*M[row,:])\r\n",
        "  return np.array(newMatrix)\r\n",
        "  \r\n",
        "def gaussJordan(M):\r\n",
        "  newMatrix = M\r\n",
        "  for pivot in range(len(M)):\r\n",
        "    newMatrix = Multiplying(newMatrix,pivot,pivot)\r\n",
        "    for column in range(0,pivot):\r\n",
        "      newMatrix = adding_row(newMatrix,column,pivot,-newMatrix[column,pivot])\r\n",
        "    for column in range(pivot+1,len(M)):\r\n",
        "      newMatrix = adding_row(newMatrix,column,pivot,-newMatrix[column,pivot])\r\n",
        "  return newMatrix \r\n"
      ],
      "execution_count": null,
      "outputs": []
    },
    {
      "cell_type": "code",
      "metadata": {
        "colab": {
          "base_uri": "https://localhost:8080/"
        },
        "id": "GSgsfvXMjR1G",
        "outputId": "a77fff09-27cd-4c20-b063-d5de5d54267b"
      },
      "source": [
        "gaussJordan(np.array(M))"
      ],
      "execution_count": null,
      "outputs": [
        {
          "output_type": "execute_result",
          "data": {
            "text/plain": [
              "array([[ 1.00000000e+00,  0.00000000e+00,  0.00000000e+00,\n",
              "         6.88515893e+00],\n",
              "       [ 0.00000000e+00,  1.00000000e+00,  0.00000000e+00,\n",
              "         6.03553681e-02],\n",
              "       [ 0.00000000e+00,  0.00000000e+00,  1.00000000e+00,\n",
              "        -6.29896167e-03]])"
            ]
          },
          "metadata": {
            "tags": []
          },
          "execution_count": 48
        }
      ]
    },
    {
      "cell_type": "code",
      "metadata": {
        "id": "HvPy2TGVlTgC"
      },
      "source": [
        "def rowDeveloper(input,order):\r\n",
        "  row = []\r\n",
        "  for i in range(order+1):\r\n",
        "    row.append(input**i)\r\n",
        "  return row\r\n",
        "\r\n",
        "def matrixDeveloper(list, order):\r\n",
        "  matrix = []\r\n",
        "  for i in list:\r\n",
        "    matrix.append(rowDeveloper(i,order))\r\n",
        "  return matrix"
      ],
      "execution_count": null,
      "outputs": []
    },
    {
      "cell_type": "code",
      "metadata": {
        "id": "TQ2tHbtBlhQJ"
      },
      "source": [
        "A = np.array(matrixDeveloper(data['Quantity'],2))\r\n",
        "y = np.array(data['Rating'])"
      ],
      "execution_count": null,
      "outputs": []
    },
    {
      "cell_type": "code",
      "metadata": {
        "colab": {
          "base_uri": "https://localhost:8080/"
        },
        "id": "g-dHbqs_lrfV",
        "outputId": "f3217c2b-bbef-4b91-889e-ba640356c435"
      },
      "source": [
        "np.linalg.inv(np.transpose(A)@ A)@ np.transpose(A)@ y"
      ],
      "execution_count": null,
      "outputs": [
        {
          "output_type": "execute_result",
          "data": {
            "text/plain": [
              "array([ 6.88515893e+00,  6.03553681e-02, -6.29896167e-03])"
            ]
          },
          "metadata": {
            "tags": []
          },
          "execution_count": 65
        }
      ]
    },
    {
      "cell_type": "code",
      "metadata": {
        "id": "Yh_BDWKKluuD"
      },
      "source": [
        "results = np.linalg.inv(np.transpose(A)@ A)@ np.transpose(A)@ y\r\n",
        "\r\n",
        "def quadRegression(x):\r\n",
        "  return results[0]+x*results[1]+results[2]*x**2"
      ],
      "execution_count": null,
      "outputs": []
    },
    {
      "cell_type": "markdown",
      "metadata": {
        "id": "CMYHx73rrhf0"
      },
      "source": [
        "#Plotting graph"
      ]
    },
    {
      "cell_type": "code",
      "metadata": {
        "colab": {
          "base_uri": "https://localhost:8080/",
          "height": 283
        },
        "id": "fy8mBh5WlxhC",
        "outputId": "ac0a59d7-3dc3-4028-9cd8-332536d4ed99"
      },
      "source": [
        "x = np.arange( 0,15,1)\r\n",
        "plt.scatter(data[\"Quantity\"],data[\"Rating\"])\r\n",
        "plt.plot(x,quadRegression(x))"
      ],
      "execution_count": null,
      "outputs": [
        {
          "output_type": "execute_result",
          "data": {
            "text/plain": [
              "[<matplotlib.lines.Line2D at 0x7f646e382668>]"
            ]
          },
          "metadata": {
            "tags": []
          },
          "execution_count": 67
        },
        {
          "output_type": "display_data",
          "data": {
            "image/png": "[encoded data removed]",
            "text/plain": [
              "<Figure size 432x288 with 1 Axes>"
            ]
          },
          "metadata": {
            "tags": [],
            "needs_background": "light"
          }
        }
      ]
    },
    {
      "cell_type": "markdown",
      "metadata": {
        "id": "MEKURXe9vnDI"
      },
      "source": [
        "#Non linear Regression Findings:\r\n",
        "The graph of the non linear regression was good. We used the scatter plot to draw the graph and it fit as per our expectation."
      ]
    }
  ]
}