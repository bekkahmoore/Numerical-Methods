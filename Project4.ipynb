{
  "nbformat": 4,
  "nbformat_minor": 0,
  "metadata": {
    "colab": {
      "name": "Project4.ipynb",
      "provenance": [],
      "collapsed_sections": [],
      "include_colab_link": true
    },
    "kernelspec": {
      "name": "python3",
      "display_name": "Python 3"
    }
  },
  "cells": [
    {
      "cell_type": "markdown",
      "metadata": {
        "id": "view-in-github",
        "colab_type": "text"
      },
      "source": [
        "<a href=\"https://colab.research.google.com/github/bekkahmoore/Numerical-Methods/blob/main/Project4.ipynb\" target=\"_parent\"><img src=\"https://colab.research.google.com/assets/colab-badge.svg\" alt=\"Open In Colab\"/></a>"
      ]
    },
    {
      "cell_type": "markdown",
      "metadata": {
        "id": "2ON1pWDH01va"
      },
      "source": [
        "\r\n",
        "**Project 4**\r\n",
        " \r\n",
        " **Sanjiv T, Kushal K, Aayush K, Bekkah M**\r\n",
        "\r\n",
        "**Numerical Methods --> Dr. Jacob** \r\n",
        "\r\n",
        "\r\n"
      ]
    },
    {
      "cell_type": "markdown",
      "metadata": {
        "id": "sqUnKE3J5TXm"
      },
      "source": [
        "#Gauss-Jordan Method\n",
        "This method helps us to solve the linear equations. \n",
        "This is in the form as shown below:\n",
        "\n",
        "\\begin{align}\n",
        "a_{1,1} x_1 +&amp;\\dots a_{1,n} x_n = y_1\\\\\n",
        "&amp;\\vdots\\\\\n",
        "a_{n,1}x_1+&amp;\\dots a_{n,n} x_n = y_n\n",
        "\\end{align}\n",
        "\n",
        "\n",
        "We will solve the equation by putting the above equation in the form shown as below:\n",
        "\n",
        "\n",
        "\\begin{array}{ccc|c}\n",
        "a_{1,1} &amp; \\dots &amp; a_{1,n} &amp; y_1\\\\\n",
        "\\vdots&amp;\\ddots&amp;\\vdots&amp;\\vdots\\\\\n",
        "a_{n,1} &amp;\\dots&amp; a_{n,n}&amp;y_n\n",
        "\\end{array}\n",
        "\n",
        "This is called augmented matrix form. And we will futher solve this problem.**bold text**"
      ]
    },
    {
      "cell_type": "code",
      "metadata": {
        "id": "zOOO86lJjb17"
      },
      "source": [
        "import math\r\n",
        "import numpy as np"
      ],
      "execution_count": null,
      "outputs": []
    },
    {
      "cell_type": "markdown",
      "metadata": {
        "id": "2_-JQCE26aY5"
      },
      "source": [
        "We need to swap the rows during the operation, the python code for the swapping is :"
      ]
    },
    {
      "cell_type": "code",
      "metadata": {
        "id": "V00rp-UQZPLQ"
      },
      "source": [
        "def swapping_Rows(M,R1,R2): \r\n",
        "  newMatrix = []\r\n",
        "  for i in range(len(M)):\r\n",
        "    if i == R1:\r\n",
        "      newMatrix.append(M[R2,:])\r\n",
        "    elif i == R2:\r\n",
        "      newMatrix.append(M[R1,:])\r\n",
        "    else:\r\n",
        "      newMatrix.append(M[i,:])\r\n",
        "  return np.array(newMatrix)"
      ],
      "execution_count": null,
      "outputs": []
    },
    {
      "cell_type": "markdown",
      "metadata": {
        "id": "qohi3_dP4h9-"
      },
      "source": [
        "Now, checking whether my code works or does not for swapping rows."
      ]
    },
    {
      "cell_type": "code",
      "metadata": {
        "colab": {
          "base_uri": "https://localhost:8080/"
        },
        "id": "Xg_oCve_3nzg",
        "outputId": "8ee09963-7c40-411f-88eb-bf543ebc2c18"
      },
      "source": [
        "swapping_Rows(A,0,1)"
      ],
      "execution_count": null,
      "outputs": [
        {
          "output_type": "execute_result",
          "data": {
            "text/plain": [
              "array([[20,  5,  8],\n",
              "       [ 8,  7,  6]])"
            ]
          },
          "metadata": {
            "tags": []
          },
          "execution_count": 13
        }
      ]
    },
    {
      "cell_type": "markdown",
      "metadata": {
        "id": "hspoYIY_6jRr"
      },
      "source": [
        "We need to add the rows during the operation, the python code for the adding is :"
      ]
    },
    {
      "cell_type": "code",
      "metadata": {
        "id": "4WSIZOcCjcUj"
      },
      "source": [
        "def adding_row(M,select_Row, modifierRow, V):\r\n",
        "  new_Row = M[select_Row,:]+V*M[modifierRow,:]\r\n",
        "  newMatrix = []\r\n",
        "  for i in range(len(M)):\r\n",
        "    if i != select_Row:\r\n",
        "      newMatrix.append(M[i,:])\r\n",
        "    else:\r\n",
        "      newMatrix.append(new_Row)\r\n",
        "  return np.array(newMatrix)"
      ],
      "execution_count": null,
      "outputs": []
    },
    {
      "cell_type": "markdown",
      "metadata": {
        "id": "g0m5hq6H40B2"
      },
      "source": [
        "Now, checking whether my code works or does not work for adding rows."
      ]
    },
    {
      "cell_type": "code",
      "metadata": {
        "id": "k9-cmWZ-39YU"
      },
      "source": [
        "adding_row(A,2,0,10)"
      ],
      "execution_count": null,
      "outputs": []
    },
    {
      "cell_type": "markdown",
      "metadata": {
        "id": "p_fRZLVb6php"
      },
      "source": [
        "We need to multiply the rows and column during the operation, the python code for the multiplication is :"
      ]
    },
    {
      "cell_type": "code",
      "metadata": {
        "id": "6_xntBLTNgcA"
      },
      "source": [
        "def Multiplying(M,row,constant):\r\n",
        "  newMatrix =[]\r\n",
        "  for i in range(len(M)):\r\n",
        "    if i != row:\r\n",
        "      newMatrix.append(M[i,:])\r\n",
        "    else:\r\n",
        "      newMatrix.append(1/M[row,constant]*M[row,:])\r\n",
        "  return np.array(newMatrix)\r\n",
        "  "
      ],
      "execution_count": null,
      "outputs": []
    },
    {
      "cell_type": "markdown",
      "metadata": {
        "id": "JiGc-H-47KeK"
      },
      "source": [
        "Now, checking whether my code works or not for multipying."
      ]
    },
    {
      "cell_type": "code",
      "metadata": {
        "colab": {
          "base_uri": "https://localhost:8080/"
        },
        "id": "Geus8XOQ4Pw3",
        "outputId": "5159bf4a-77a4-46d2-c28e-a7e950ef8e05"
      },
      "source": [
        "Multiplying(A,0,2)\r\n"
      ],
      "execution_count": null,
      "outputs": [
        {
          "output_type": "execute_result",
          "data": {
            "text/plain": [
              "array([[ 1.33333333,  1.16666667,  1.        ],\n",
              "       [20.        ,  5.        ,  8.        ]])"
            ]
          },
          "metadata": {
            "tags": []
          },
          "execution_count": 17
        }
      ]
    },
    {
      "cell_type": "markdown",
      "metadata": {
        "id": "LYiYg3rF6yDM"
      },
      "source": [
        "We will use the Gauss Jordan Method here. The python code for Gauss Jordan is :"
      ]
    },
    {
      "cell_type": "code",
      "metadata": {
        "id": "_dfjemN2X9eo"
      },
      "source": [
        "def gaussJordan(M):\r\n",
        "  newMatrix = M\r\n",
        "  for pivot in range(len(M)):\r\n",
        "    newMatrix = Multiplying(newMatrix,pivot,pivot)\r\n",
        "    for column in range(0,pivot):\r\n",
        "      newMatrix = adding_row(newMatrix,column,pivot,-newMatrix[column,pivot])\r\n",
        "    for column in range(pivot+1,len(M)):\r\n",
        "      newMatrix = adding_row(newMatrix,column,pivot,-newMatrix[column,pivot])\r\n",
        "  return newMatrix"
      ],
      "execution_count": null,
      "outputs": []
    },
    {
      "cell_type": "markdown",
      "metadata": {
        "id": "efkbZgwu7tx7"
      },
      "source": [
        "Creating a list of elements with A."
      ]
    },
    {
      "cell_type": "code",
      "metadata": {
        "colab": {
          "base_uri": "https://localhost:8080/"
        },
        "id": "drZiIrMSb4uZ",
        "outputId": "39c83368-6bbc-487a-8ceb-39e07fe992ec"
      },
      "source": [
        "A = np.array([[8,7,6],[20,5,8]])\r\n",
        "A\r\n"
      ],
      "execution_count": null,
      "outputs": [
        {
          "output_type": "execute_result",
          "data": {
            "text/plain": [
              "array([[ 8,  7,  6],\n",
              "       [20,  5,  8]])"
            ]
          },
          "metadata": {
            "tags": []
          },
          "execution_count": 19
        }
      ]
    },
    {
      "cell_type": "markdown",
      "metadata": {
        "id": "uj1DB2EB7fCk"
      },
      "source": [
        "Implementing the code for Gauss Jordan Method for the array of elements A'"
      ]
    },
    {
      "cell_type": "code",
      "metadata": {
        "colab": {
          "base_uri": "https://localhost:8080/"
        },
        "id": "jSJkkWf9cJpy",
        "outputId": "0c40f03d-37dc-41a6-ec1d-146747c7d6b4"
      },
      "source": [
        "gaussJordan(A)\r\n"
      ],
      "execution_count": null,
      "outputs": [
        {
          "output_type": "execute_result",
          "data": {
            "text/plain": [
              "array([[ 1.  ,  0.  ,  0.26],\n",
              "       [-0.  ,  1.  ,  0.56]])"
            ]
          },
          "metadata": {
            "tags": []
          },
          "execution_count": 20
        }
      ]
    },
    {
      "cell_type": "markdown",
      "metadata": {
        "id": "7Qoe27BQ70aX"
      },
      "source": [
        "Creating the list of array of elements named B using python code."
      ]
    },
    {
      "cell_type": "code",
      "metadata": {
        "colab": {
          "base_uri": "https://localhost:8080/"
        },
        "id": "xJ5eMvAHMxwt",
        "outputId": "ce5a8863-1f15-4800-a2a4-62c987066cdf"
      },
      "source": [
        "B = np.array([[8,7,6],[20,5,8,4]])\r\n",
        "B"
      ],
      "execution_count": null,
      "outputs": [
        {
          "output_type": "stream",
          "text": [
            "/usr/local/lib/python3.6/dist-packages/ipykernel_launcher.py:1: VisibleDeprecationWarning: Creating an ndarray from ragged nested sequences (which is a list-or-tuple of lists-or-tuples-or ndarrays with different lengths or shapes) is deprecated. If you meant to do this, you must specify 'dtype=object' when creating the ndarray\n",
            "  \"\"\"Entry point for launching an IPython kernel.\n"
          ],
          "name": "stderr"
        },
        {
          "output_type": "execute_result",
          "data": {
            "text/plain": [
              "array([list([8, 7, 6]), list([20, 5, 8, 4])], dtype=object)"
            ]
          },
          "metadata": {
            "tags": []
          },
          "execution_count": 73
        }
      ]
    },
    {
      "cell_type": "markdown",
      "metadata": {
        "id": "XIJmXAjY8DG3"
      },
      "source": [
        "So,what happened here was, the number of rows and columns in  list was different with each other."
      ]
    },
    {
      "cell_type": "code",
      "metadata": {
        "id": "mDL6tTETOai1"
      },
      "source": [
        "import numpy as np\r\n",
        " \r\n",
        " # userdefined function\r\n",
        "def gaussElimin(a,b):\r\n",
        "  n = len(b)\r\n",
        "  # Elimination Phase\r\n",
        "  for k in range(0,n-1):\r\n",
        "    for i in range(k+1,n):\r\n",
        "      if a[i,k]  != 0.0:\r\n",
        "        lam = a [i,k]/a[k,k]\r\n",
        "        a[i,k+1:n] = a[i,k+1:n] - lam*a[k,k+1:n]\r\n",
        "        b[i] = b[i] - lam*b[k]\r\n",
        "        #back subsitution\r\n",
        "  for k in range(n-1,-1,-1):\r\n",
        "    b[k] = (b[k] - np.dot(a[k,k+1:n],b[k+1:n]))/a[k,k]\r\n",
        "  return b"
      ],
      "execution_count": null,
      "outputs": []
    },
    {
      "cell_type": "markdown",
      "metadata": {
        "id": "y0DM5fHgiTWY"
      },
      "source": [
        "For guass elimination method we took 3 equation 4x1-2y1+z=11 -2x2+4y2-2z=-16 X3-2y2+4z=17\r\n",
        "\r\n",
        "\r\n",
        "\r\n"
      ]
    },
    {
      "cell_type": "code",
      "metadata": {
        "colab": {
          "base_uri": "https://localhost:8080/"
        },
        "id": "bIJPmkdLiRzo",
        "outputId": "43d44fd4-50ea-4822-d6b5-572ebc1eb0a9"
      },
      "source": [
        "# Encode A and b\r\n",
        "A = np.array([[ 4.0, -2.0, 1.0], [-2.0, 4.0, -2.0], [1.0, -2.0, 4.0]])\r\n",
        "b = np.array([11.0, -16.0, 17.0])\r\n",
        "print(A)\r\n",
        "print(b)"
      ],
      "execution_count": null,
      "outputs": [
        {
          "output_type": "stream",
          "text": [
            "[[ 4. -2.  1.]\n",
            " [-2.  4. -2.]\n",
            " [ 1. -2.  4.]]\n",
            "[ 11. -16.  17.]\n"
          ],
          "name": "stdout"
        }
      ]
    },
    {
      "cell_type": "code",
      "metadata": {
        "colab": {
          "base_uri": "https://localhost:8080/"
        },
        "id": "OYHN4_shzy9h",
        "outputId": "69373c53-0680-408e-dfd8-c2805b295541"
      },
      "source": [
        "# Using gauss Elimination\r\n",
        "gaussElimin(A,b)"
      ],
      "execution_count": null,
      "outputs": [
        {
          "output_type": "execute_result",
          "data": {
            "text/plain": [
              "array([ 1., -2.,  3.])"
            ]
          },
          "metadata": {
            "tags": []
          },
          "execution_count": 80
        }
      ]
    },
    {
      "cell_type": "markdown",
      "metadata": {
        "id": "nZacGPHg1-df"
      },
      "source": [
        "Now, working on with three rows N columns to find the gauss Jordan value.."
      ]
    },
    {
      "cell_type": "code",
      "metadata": {
        "colab": {
          "base_uri": "https://localhost:8080/"
        },
        "id": "mz-PBDbns6_z",
        "outputId": "655782d6-7de6-4347-f4e9-ad455958baef"
      },
      "source": [
        "C = np.array([[1,12,3,4],[21,3,4,5],[3,-4,51,6]])\r\n",
        "C"
      ],
      "execution_count": null,
      "outputs": [
        {
          "output_type": "execute_result",
          "data": {
            "text/plain": [
              "array([[ 1, 12,  3,  4],\n",
              "       [21,  3,  4,  5],\n",
              "       [ 3, -4, 51,  6]])"
            ]
          },
          "metadata": {
            "tags": []
          },
          "execution_count": 88
        }
      ]
    },
    {
      "cell_type": "code",
      "metadata": {
        "colab": {
          "base_uri": "https://localhost:8080/"
        },
        "id": "uSa0J1Vzs-Da",
        "outputId": "6e5c7b85-3453-49d0-cdad-78912aa71ddf"
      },
      "source": [
        "gaussJordan(C)"
      ],
      "execution_count": null,
      "outputs": [
        {
          "output_type": "execute_result",
          "data": {
            "text/plain": [
              "array([[ 1.00000000e+00,  1.79797579e-15,  0.00000000e+00,\n",
              "         1.72413793e-01],\n",
              "       [-0.00000000e+00,  1.00000000e+00,  0.00000000e+00,\n",
              "         2.86472149e-01],\n",
              "       [ 0.00000000e+00, -1.38028664e-16,  1.00000000e+00,\n",
              "         1.29973475e-01]])"
            ]
          },
          "metadata": {
            "tags": []
          },
          "execution_count": 89
        }
      ]
    },
    {
      "cell_type": "markdown",
      "metadata": {
        "id": "lhuu21cXLpGL"
      },
      "source": [
        "Looks like we have successfully run the code now.But we are still confused the values we got after running the code is right or wrong.\r\n",
        " In this way,the system of linear equations can be solved,in which the given system operations solution can be obtained by Elimination phase and back subsitution."
      ]
    }
  ]
}