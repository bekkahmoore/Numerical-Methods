{
  "nbformat": 4,
  "nbformat_minor": 0,
  "metadata": {
    "colab": {
      "name": "Project 2",
      "provenance": [],
      "collapsed_sections": [],
      "include_colab_link": true
    },
    "kernelspec": {
      "name": "python3",
      "display_name": "Python 3"
    }
  },
  "cells": [
    {
      "cell_type": "markdown",
      "metadata": {
        "id": "view-in-github",
        "colab_type": "text"
      },
      "source": [
        "<a href=\"https://colab.research.google.com/github/bekkahmoore/Numerical-Methods/blob/main/Project_2.ipynb\" target=\"_parent\"><img src=\"https://colab.research.google.com/assets/colab-badge.svg\" alt=\"Open In Colab\"/></a>"
      ]
    },
    {
      "cell_type": "markdown",
      "metadata": {
        "id": "AEpbUGMm341I"
      },
      "source": [
        "#Project Part 2#\r\n",
        "##Sanjiv T, Bekkah M, Aayush K, Kushal K\r\n",
        "###Numerical Methods--Dr. Nicholas Jacobs"
      ]
    },
    {
      "cell_type": "markdown",
      "metadata": {
        "id": "Pqj7ljiX4IVx"
      },
      "source": [
        "Much like we did in the beginning of part 1 of this project, we will redefine some of the error computing functions we will use. We will also continue to use the Taylor series expansion of $\\frac {1}{1-x}\\ $ centered at $a=2$.\r\n",
        "Importing the math package will help execute these functions as well.\r\n"
      ]
    },
    {
      "cell_type": "code",
      "metadata": {
        "id": "UDRPfepfu9Ak"
      },
      "source": [
        "import math\n",
        " \n",
        "def TrueError(TrueValue, Estimate):\n",
        "  return TrueValue - Estimate \n",
        " \n",
        "def RelativeError(TrueValue, Estimate):\n",
        "  return TrueError(TrueValue, Estimate)/TrueValue\n",
        " \n",
        "def ApproxError(PresentEstimate, PreviousEstimate):\n",
        "  return PresentEstimate - PreviousEstimate\n",
        " \n",
        "def RelativeApproxError(PresentEstimate, PreviousEstimate):\n",
        "  return ApproxError(PresentEstimate, PreviousEstimate)/PresentEstimate\n",
        " \n",
        "def TaylorCoefficient(n):\n",
        "  return (-1**(n)/3**(n))\n",
        " \n",
        "def TaylorTerm(n, input):\n",
        "  return TaylorCoefficient(n)*(input-2)**n\n",
        " \n",
        "def TaylorPolynomial(n, input):\n",
        "  sum = 0\n",
        "  for i in range(0,n+1):\n",
        "    sum = sum + TaylorTerm(i, input)\n",
        "  return sum"
      ],
      "execution_count": null,
      "outputs": []
    },
    {
      "cell_type": "markdown",
      "metadata": {
        "id": "Kma3VSu7N0mp"
      },
      "source": [
        "# Defining Derivatives\r\n",
        "We will use 3 different functions to help us estimate derivatives. Those are as follows: \r\n",
        "\r\n",
        "### Forward Difference: ### \r\n",
        "$$ f'(x_0)\\approx \\frac{f(x_0+\\Delta x)-f(x_0)}{\\Delta x} $$\r\n",
        "\r\n",
        "### Backward Difference: ###\r\n",
        "$$ f'(x_0)\\approx \\frac{f(x_0)-f(x_0-\\Delta x)}{\\Delta x} $$\r\n",
        "\r\n",
        "### Central Difference: ###\r\n",
        "$$ f'(x_0)\\approx \\frac{f(x_0+\\Delta x)-f(x_0-\\Delta x)}{2\\Delta x} $$\r\n",
        "\r\n",
        "\r\n",
        "We can also define the **finite difference of the second order derivative** here: \r\n",
        "$$ f''(x_0)\\approx \\frac{f(x_0+2\\Delta x)-2f(x_0+\\Delta x)+f(x_0)}{\\left(\\Delta x\\right)^2} $$"
      ]
    },
    {
      "cell_type": "code",
      "metadata": {
        "id": "wvFY0krWiBXB"
      },
      "source": [
        " \n",
        "import matplotlib.pyplot as plt"
      ],
      "execution_count": null,
      "outputs": []
    },
    {
      "cell_type": "code",
      "metadata": {
        "id": "m-Qaf8DCle3O"
      },
      "source": [
        "def fwDiff(f,num,h):\n",
        "  return (f(num+h)-f(num))/h\n",
        " \n",
        "def bwDiff(f,num,h):\n",
        "  return (f(num)-f(num-h))/h\n",
        " \n",
        "def crDiff(f,num,h):\n",
        "  return (f(num+h)-f(num-h))/(2*h)\n",
        " \n",
        "def f_Diff(f,num,h):\n",
        "  return (f(num+2*h)-2*f(num+h)+f(num))/h**2"
      ],
      "execution_count": null,
      "outputs": []
    },
    {
      "cell_type": "code",
      "metadata": {
        "id": "gAhqPcgMMQkx",
        "colab": {
          "base_uri": "https://localhost:8080/",
          "height": 350
        },
        "outputId": "a2bbe989-f71f-4209-e9de-f4653945cbe4"
      },
      "source": [
        "stepSizes = [1, .1 , .01 , .001,.0001]\n",
        "forward = [fwDiff(1/(),2,step) for step in stepSizes]\n",
        "backward = [bwDiff(1/(1-num),2,step) for step in stepSizes]\n",
        "central = [crDiff(1/(1-num),2,step) for step in stepSizes]\n",
        "finite = [f_Diff(1/(1-num),2,step) for step in stepSizes]\n",
        " \n",
        " \n",
        "actual = 2\n",
        " \n",
        "AbsoluteFW = [TrueError(TrueValue, Estimate) for Estimate in forward]\n",
        "RelativeFW = [RelativeError(TrueValue, Estimate) for Estimate in forward]\n",
        " \n",
        "AbsoluteBW = [TrueError(TrueValue, Estimate) for Estimate in backward]\n",
        "RelativeBW = [RelativeError(TrueValue, Estimate) for Estimate in backward]\n",
        "                        \n",
        "AbsoluteCR = [TrueError(TrueValue, Estimate) for Estimate in central]\n",
        "RelativeCR = [RelativeError(TrueValue, Estimate) for Estimate in central]\n",
        "                            \n",
        "second_actual = -2\n",
        " \n",
        "AbsoluteFinite = [TrueError(second_actual, Estimate) for Estimate in finite]\n",
        "RelativeFinite = [RelativeError(second_actual, Estimate) for Estimate in finite]"
      ],
      "execution_count": null,
      "outputs": [
        {
          "output_type": "error",
          "ename": "NameError",
          "evalue": "ignored",
          "traceback": [
            "\u001b[0;31m---------------------------------------------------------------------------\u001b[0m",
            "\u001b[0;31mNameError\u001b[0m                                 Traceback (most recent call last)",
            "\u001b[0;32m<ipython-input-24-90aaf83b5dea>\u001b[0m in \u001b[0;36m<module>\u001b[0;34m()\u001b[0m\n\u001b[1;32m      3\u001b[0m \u001b[0;34m\u001b[0m\u001b[0m\n\u001b[1;32m      4\u001b[0m \u001b[0mstepSizes\u001b[0m \u001b[0;34m=\u001b[0m \u001b[0;34m[\u001b[0m\u001b[0;36m1\u001b[0m\u001b[0;34m,\u001b[0m \u001b[0;36m.1\u001b[0m \u001b[0;34m,\u001b[0m \u001b[0;36m.01\u001b[0m \u001b[0;34m,\u001b[0m \u001b[0;36m.001\u001b[0m\u001b[0;34m,\u001b[0m\u001b[0;36m.0001\u001b[0m\u001b[0;34m]\u001b[0m\u001b[0;34m\u001b[0m\u001b[0;34m\u001b[0m\u001b[0m\n\u001b[0;32m----> 5\u001b[0;31m \u001b[0mforward\u001b[0m \u001b[0;34m=\u001b[0m \u001b[0;34m[\u001b[0m\u001b[0mfwDiff\u001b[0m\u001b[0;34m(\u001b[0m\u001b[0mmy_function\u001b[0m\u001b[0;34m(\u001b[0m\u001b[0;34m)\u001b[0m\u001b[0;34m,\u001b[0m\u001b[0;36m2\u001b[0m\u001b[0;34m,\u001b[0m\u001b[0mstep\u001b[0m\u001b[0;34m)\u001b[0m \u001b[0;32mfor\u001b[0m \u001b[0mstep\u001b[0m \u001b[0;32min\u001b[0m \u001b[0mstepSizes\u001b[0m\u001b[0;34m]\u001b[0m\u001b[0;34m\u001b[0m\u001b[0;34m\u001b[0m\u001b[0m\n\u001b[0m\u001b[1;32m      6\u001b[0m \u001b[0mbackward\u001b[0m \u001b[0;34m=\u001b[0m \u001b[0;34m[\u001b[0m\u001b[0mbwDiff\u001b[0m\u001b[0;34m(\u001b[0m\u001b[0;36m1\u001b[0m\u001b[0;34m/\u001b[0m\u001b[0;34m(\u001b[0m\u001b[0;36m1\u001b[0m\u001b[0;34m-\u001b[0m\u001b[0mnum\u001b[0m\u001b[0;34m)\u001b[0m\u001b[0;34m,\u001b[0m\u001b[0;36m2\u001b[0m\u001b[0;34m,\u001b[0m\u001b[0mstep\u001b[0m\u001b[0;34m)\u001b[0m \u001b[0;32mfor\u001b[0m \u001b[0mstep\u001b[0m \u001b[0;32min\u001b[0m \u001b[0mstepSizes\u001b[0m\u001b[0;34m]\u001b[0m\u001b[0;34m\u001b[0m\u001b[0;34m\u001b[0m\u001b[0m\n\u001b[1;32m      7\u001b[0m \u001b[0mcentral\u001b[0m \u001b[0;34m=\u001b[0m \u001b[0;34m[\u001b[0m\u001b[0mcrDiff\u001b[0m\u001b[0;34m(\u001b[0m\u001b[0;36m1\u001b[0m\u001b[0;34m/\u001b[0m\u001b[0;34m(\u001b[0m\u001b[0;36m1\u001b[0m\u001b[0;34m-\u001b[0m\u001b[0mnum\u001b[0m\u001b[0;34m)\u001b[0m\u001b[0;34m,\u001b[0m\u001b[0;36m2\u001b[0m\u001b[0;34m,\u001b[0m\u001b[0mstep\u001b[0m\u001b[0;34m)\u001b[0m \u001b[0;32mfor\u001b[0m \u001b[0mstep\u001b[0m \u001b[0;32min\u001b[0m \u001b[0mstepSizes\u001b[0m\u001b[0;34m]\u001b[0m\u001b[0;34m\u001b[0m\u001b[0;34m\u001b[0m\u001b[0m\n",
            "\u001b[0;32m<ipython-input-24-90aaf83b5dea>\u001b[0m in \u001b[0;36m<listcomp>\u001b[0;34m(.0)\u001b[0m\n\u001b[1;32m      3\u001b[0m \u001b[0;34m\u001b[0m\u001b[0m\n\u001b[1;32m      4\u001b[0m \u001b[0mstepSizes\u001b[0m \u001b[0;34m=\u001b[0m \u001b[0;34m[\u001b[0m\u001b[0;36m1\u001b[0m\u001b[0;34m,\u001b[0m \u001b[0;36m.1\u001b[0m \u001b[0;34m,\u001b[0m \u001b[0;36m.01\u001b[0m \u001b[0;34m,\u001b[0m \u001b[0;36m.001\u001b[0m\u001b[0;34m,\u001b[0m\u001b[0;36m.0001\u001b[0m\u001b[0;34m]\u001b[0m\u001b[0;34m\u001b[0m\u001b[0;34m\u001b[0m\u001b[0m\n\u001b[0;32m----> 5\u001b[0;31m \u001b[0mforward\u001b[0m \u001b[0;34m=\u001b[0m \u001b[0;34m[\u001b[0m\u001b[0mfwDiff\u001b[0m\u001b[0;34m(\u001b[0m\u001b[0mmy_function\u001b[0m\u001b[0;34m(\u001b[0m\u001b[0;34m)\u001b[0m\u001b[0;34m,\u001b[0m\u001b[0;36m2\u001b[0m\u001b[0;34m,\u001b[0m\u001b[0mstep\u001b[0m\u001b[0;34m)\u001b[0m \u001b[0;32mfor\u001b[0m \u001b[0mstep\u001b[0m \u001b[0;32min\u001b[0m \u001b[0mstepSizes\u001b[0m\u001b[0;34m]\u001b[0m\u001b[0;34m\u001b[0m\u001b[0;34m\u001b[0m\u001b[0m\n\u001b[0m\u001b[1;32m      6\u001b[0m \u001b[0mbackward\u001b[0m \u001b[0;34m=\u001b[0m \u001b[0;34m[\u001b[0m\u001b[0mbwDiff\u001b[0m\u001b[0;34m(\u001b[0m\u001b[0;36m1\u001b[0m\u001b[0;34m/\u001b[0m\u001b[0;34m(\u001b[0m\u001b[0;36m1\u001b[0m\u001b[0;34m-\u001b[0m\u001b[0mnum\u001b[0m\u001b[0;34m)\u001b[0m\u001b[0;34m,\u001b[0m\u001b[0;36m2\u001b[0m\u001b[0;34m,\u001b[0m\u001b[0mstep\u001b[0m\u001b[0;34m)\u001b[0m \u001b[0;32mfor\u001b[0m \u001b[0mstep\u001b[0m \u001b[0;32min\u001b[0m \u001b[0mstepSizes\u001b[0m\u001b[0;34m]\u001b[0m\u001b[0;34m\u001b[0m\u001b[0;34m\u001b[0m\u001b[0m\n\u001b[1;32m      7\u001b[0m \u001b[0mcentral\u001b[0m \u001b[0;34m=\u001b[0m \u001b[0;34m[\u001b[0m\u001b[0mcrDiff\u001b[0m\u001b[0;34m(\u001b[0m\u001b[0;36m1\u001b[0m\u001b[0;34m/\u001b[0m\u001b[0;34m(\u001b[0m\u001b[0;36m1\u001b[0m\u001b[0;34m-\u001b[0m\u001b[0mnum\u001b[0m\u001b[0;34m)\u001b[0m\u001b[0;34m,\u001b[0m\u001b[0;36m2\u001b[0m\u001b[0;34m,\u001b[0m\u001b[0mstep\u001b[0m\u001b[0;34m)\u001b[0m \u001b[0;32mfor\u001b[0m \u001b[0mstep\u001b[0m \u001b[0;32min\u001b[0m \u001b[0mstepSizes\u001b[0m\u001b[0;34m]\u001b[0m\u001b[0;34m\u001b[0m\u001b[0;34m\u001b[0m\u001b[0m\n",
            "\u001b[0;31mNameError\u001b[0m: name 'fwDiff' is not defined"
          ]
        }
      ]
    },
    {
      "cell_type": "code",
      "metadata": {
        "id": "-R2JbSw-sSLm",
        "colab": {
          "base_uri": "https://localhost:8080/"
        },
        "outputId": "baaea131-f121-47e2-98f0-d53c89debd0b"
      },
      "source": [
        "\r\n",
        "\r\n",
        "\r\n",
        "import numpy as np\r\n",
        "\r\n",
        "import matplotlib.pyplot as plt\r\n",
        "\r\n",
        "def derivative(f,a,method='central',h=0.01):\r\n",
        "\r\n",
        "  if method == \"central\":\r\n",
        "    return (f(a + h) - f(a - h))/(2*h)\r\n",
        "  if method == 'forward':\r\n",
        "    return (f(a + h) - f(a))/h\r\n",
        "  if method == 'backward':\r\n",
        "    return (f(a) - f(a - h))/h\r\n",
        "\r\n",
        "  raise ValueError(\"Method must be 'central', 'forward' or 'backward'.\")\r\n",
        "\r\n",
        "derivative(np.exp,0,method='backward',h=0.0001)\r\n",
        "\r\n",
        "\r\n",
        "\r\n"
      ],
      "execution_count": null,
      "outputs": [
        {
          "output_type": "execute_result",
          "data": {
            "text/plain": [
              "0.9999500016666385"
            ]
          },
          "metadata": {
            "tags": []
          },
          "execution_count": 5
        }
      ]
    },
    {
      "cell_type": "code",
      "metadata": {
        "id": "9FNc6QqOG3jW",
        "colab": {
          "base_uri": "https://localhost:8080/"
        },
        "outputId": "8be7dcf1-be50-491b-c5ba-b9a9d53e7b68"
      },
      "source": [
        "from numpy import *\n",
        "from matplotlib.pyplot import *\n",
        " \n",
        " \n",
        "def f1(x):\n",
        "  return x**2\n",
        " \n",
        "n = 100 # grid points\n",
        " \n",
        "x = zeros(n+1,dtype=float) # array to store values of x\n",
        "step = 0.02/float(n) # step size\n",
        "f = zeros(n+1,dtype=float) # array to store values of f\n",
        "df = zeros(n+1,dtype=float) # array to store values of calulated derivative\n",
        " \n",
        "for i in range(0,n+1): # adds values to arrays for x and f(x)\n",
        "  x[i] = -0.01 + float(i)*step\n",
        "f[i] = f1(x[i])\n",
        " \n",
        "# have to calculate end points seperately using one sided form\n",
        " \n",
        "df[0] = (f[2]-2*f[1]+f[0])/step**2\n",
        "df[1] = (f[3]-2*f[2]+f[1])/step**2\n",
        "df[n-1] = (f[n-1]-2*f[n-2]+f[n-3])/step**2\n",
        "df[n] = (f[n]-2*f[n-1]+f[n-2])/step**2\n",
        " \n",
        "for i in range(2,n-1): # add values to array for derivative\n",
        "  df[i] = (f[i+1]-2*f[i]+f[i-1])/step**2\n",
        " \n",
        "print (df)"
      ],
      "execution_count": null,
      "outputs": [
        {
          "output_type": "stream",
          "text": [
            "[   0.    0.    0.    0.    0.    0.    0.    0.    0.    0.    0.    0.\n",
            "    0.    0.    0.    0.    0.    0.    0.    0.    0.    0.    0.    0.\n",
            "    0.    0.    0.    0.    0.    0.    0.    0.    0.    0.    0.    0.\n",
            "    0.    0.    0.    0.    0.    0.    0.    0.    0.    0.    0.    0.\n",
            "    0.    0.    0.    0.    0.    0.    0.    0.    0.    0.    0.    0.\n",
            "    0.    0.    0.    0.    0.    0.    0.    0.    0.    0.    0.    0.\n",
            "    0.    0.    0.    0.    0.    0.    0.    0.    0.    0.    0.    0.\n",
            "    0.    0.    0.    0.    0.    0.    0.    0.    0.    0.    0.    0.\n",
            "    0.    0.    0.    0. 2500.]\n"
          ],
          "name": "stdout"
        }
      ]
    },
    {
      "cell_type": "code",
      "metadata": {
        "id": "W0w9qq7YEsbO",
        "colab": {
          "base_uri": "https://localhost:8080/",
          "height": 542
        },
        "outputId": "cda5604e-4fb0-41f0-f632-7b121e6e7651"
      },
      "source": [
        "import plotly.graph_objects as go\r\n",
        "from plotly.subplots import make_subplots\r\n",
        "\r\n",
        "fig=make_subplots(\r\n",
        "    rows=4,cols=1,\r\n",
        "    shared_xaxes=True,\r\n",
        "    vertical_spacing=0.05,\r\n",
        "    specs=[[{\"type\":\"table\"}],\r\n",
        "           [{\"type\":\"table\"}],\r\n",
        "           [{\"type\":\"table\"}],\r\n",
        "           [{\"type\":\"table\"}]]\r\n",
        ")\r\n",
        "\r\n",
        "fig.add_trace(go.Table(\r\n",
        "    header=dict(values=['Step Size', 'FW Estimate','True Error','Relative Error']),\r\n",
        "    cells=dict(values=['stepSizes','forward','AbsoluteFW','RelativeFW'])),row=1, col=1)\r\n",
        "\r\n",
        "fig.add_trace(go.Table(\r\n",
        "    header=dict(values=['Step Size', 'BW Estimate','True Error','Relative Error']),\r\n",
        "    cells=dict(values=['stepSizes','backward','AbsoluteBW','RelativeBW'])),row=2, col=1)\r\n",
        "\r\n",
        "\r\n",
        "fig.add_trace(go.Table(\r\n",
        "    header=dict(values=['Step Size', 'Central Estimate','True Error','Relative Error']),\r\n",
        "    cells=dict(values=['stepSizes','central','AbsoluteCR','RelativeCR'])),row=3, col=1)\r\n",
        "\r\n",
        "fig.add_trace(go.Table(\r\n",
        "    header=dict(values=['Step Size', 'Central Estimate','True Error','Relative Error']),\r\n",
        "    cells=dict(values=['stepSizes','finite','AbsoluteFinite','RelativeFinite'])),row=4, col=1)\r\n",
        "\r\n",
        "fig.show()"
      ],
      "execution_count": null,
      "outputs": [
        {
          "output_type": "display_data",
          "data": {
            "text/html": [
              "<html>\n",
              "<head><meta charset=\"utf-8\" /></head>\n",
              "<body>\n",
              "    <div>\n",
              "            <script src=\"https://cdnjs.cloudflare.com/ajax/libs/mathjax/2.7.5/MathJax.js?config=TeX-AMS-MML_SVG\"></script><script type=\"text/javascript\">if (window.MathJax) {MathJax.Hub.Config({SVG: {font: \"STIX-Web\"}});}</script>\n",
              "                <script type=\"text/javascript\">window.PlotlyConfig = {MathJaxConfig: 'local'};</script>\n",
              "        <script src=\"https://cdn.plot.ly/plotly-latest.min.js\"></script>    \n",
              "            <div id=\"b2e22aad-b763-4f2e-8e40-9a7f10af995f\" class=\"plotly-graph-div\" style=\"height:525px; width:100%;\"></div>\n",
              "            <script type=\"text/javascript\">\n",
              "                \n",
              "                    window.PLOTLYENV=window.PLOTLYENV || {};\n",
              "                    \n",
              "                if (document.getElementById(\"b2e22aad-b763-4f2e-8e40-9a7f10af995f\")) {\n",
              "                    Plotly.newPlot(\n",
              "                        'b2e22aad-b763-4f2e-8e40-9a7f10af995f',\n",
              "                        [{\"cells\": {\"values\": [\"stepSizes\", \"forward\", \"AbsoluteFW\", \"RelativeFW\"]}, \"domain\": {\"x\": [0.0, 1.0], \"y\": [0.7875, 1.0]}, \"header\": {\"values\": [\"Step Size\", \"FW Estimate\", \"True Error\", \"Relative Error\"]}, \"type\": \"table\"}, {\"cells\": {\"values\": [\"stepSizes\", \"backward\", \"AbsoluteBW\", \"RelativeBW\"]}, \"domain\": {\"x\": [0.0, 1.0], \"y\": [0.525, 0.7375]}, \"header\": {\"values\": [\"Step Size\", \"BW Estimate\", \"True Error\", \"Relative Error\"]}, \"type\": \"table\"}, {\"cells\": {\"values\": [\"stepSizes\", \"central\", \"AbsoluteCR\", \"RelativeCR\"]}, \"domain\": {\"x\": [0.0, 1.0], \"y\": [0.2625, 0.475]}, \"header\": {\"values\": [\"Step Size\", \"Central Estimate\", \"True Error\", \"Relative Error\"]}, \"type\": \"table\"}, {\"cells\": {\"values\": [\"stepSizes\", \"finite\", \"AbsoluteFinite\", \"RelativeFinite\"]}, \"domain\": {\"x\": [0.0, 1.0], \"y\": [0.0, 0.2125]}, \"header\": {\"values\": [\"Step Size\", \"Central Estimate\", \"True Error\", \"Relative Error\"]}, \"type\": \"table\"}],\n",
              "                        {\"template\": {\"data\": {\"bar\": [{\"error_x\": {\"color\": \"#2a3f5f\"}, \"error_y\": {\"color\": \"#2a3f5f\"}, \"marker\": {\"line\": {\"color\": \"#E5ECF6\", \"width\": 0.5}}, \"type\": \"bar\"}], \"barpolar\": [{\"marker\": {\"line\": {\"color\": \"#E5ECF6\", \"width\": 0.5}}, \"type\": \"barpolar\"}], \"carpet\": [{\"aaxis\": {\"endlinecolor\": \"#2a3f5f\", \"gridcolor\": \"white\", \"linecolor\": \"white\", \"minorgridcolor\": \"white\", \"startlinecolor\": \"#2a3f5f\"}, \"baxis\": {\"endlinecolor\": \"#2a3f5f\", \"gridcolor\": \"white\", \"linecolor\": \"white\", \"minorgridcolor\": \"white\", \"startlinecolor\": \"#2a3f5f\"}, \"type\": \"carpet\"}], \"choropleth\": [{\"colorbar\": {\"outlinewidth\": 0, \"ticks\": \"\"}, \"type\": \"choropleth\"}], \"contour\": [{\"colorbar\": {\"outlinewidth\": 0, \"ticks\": \"\"}, \"colorscale\": [[0.0, \"#0d0887\"], [0.1111111111111111, \"#46039f\"], [0.2222222222222222, \"#7201a8\"], [0.3333333333333333, \"#9c179e\"], [0.4444444444444444, \"#bd3786\"], [0.5555555555555556, \"#d8576b\"], [0.6666666666666666, \"#ed7953\"], [0.7777777777777778, \"#fb9f3a\"], [0.8888888888888888, \"#fdca26\"], [1.0, \"#f0f921\"]], \"type\": \"contour\"}], \"contourcarpet\": [{\"colorbar\": {\"outlinewidth\": 0, \"ticks\": \"\"}, \"type\": \"contourcarpet\"}], \"heatmap\": [{\"colorbar\": {\"outlinewidth\": 0, \"ticks\": \"\"}, \"colorscale\": [[0.0, \"#0d0887\"], [0.1111111111111111, \"#46039f\"], [0.2222222222222222, \"#7201a8\"], [0.3333333333333333, \"#9c179e\"], [0.4444444444444444, \"#bd3786\"], [0.5555555555555556, \"#d8576b\"], [0.6666666666666666, \"#ed7953\"], [0.7777777777777778, \"#fb9f3a\"], [0.8888888888888888, \"#fdca26\"], [1.0, \"#f0f921\"]], \"type\": \"heatmap\"}], \"heatmapgl\": [{\"colorbar\": {\"outlinewidth\": 0, \"ticks\": \"\"}, \"colorscale\": [[0.0, \"#0d0887\"], [0.1111111111111111, \"#46039f\"], [0.2222222222222222, \"#7201a8\"], [0.3333333333333333, \"#9c179e\"], [0.4444444444444444, \"#bd3786\"], [0.5555555555555556, \"#d8576b\"], [0.6666666666666666, \"#ed7953\"], [0.7777777777777778, \"#fb9f3a\"], [0.8888888888888888, \"#fdca26\"], [1.0, \"#f0f921\"]], \"type\": \"heatmapgl\"}], \"histogram\": [{\"marker\": {\"colorbar\": {\"outlinewidth\": 0, \"ticks\": \"\"}}, \"type\": \"histogram\"}], \"histogram2d\": [{\"colorbar\": {\"outlinewidth\": 0, \"ticks\": \"\"}, \"colorscale\": [[0.0, \"#0d0887\"], [0.1111111111111111, \"#46039f\"], [0.2222222222222222, \"#7201a8\"], [0.3333333333333333, \"#9c179e\"], [0.4444444444444444, \"#bd3786\"], [0.5555555555555556, \"#d8576b\"], [0.6666666666666666, \"#ed7953\"], [0.7777777777777778, \"#fb9f3a\"], [0.8888888888888888, \"#fdca26\"], [1.0, \"#f0f921\"]], \"type\": \"histogram2d\"}], \"histogram2dcontour\": [{\"colorbar\": {\"outlinewidth\": 0, \"ticks\": \"\"}, \"colorscale\": [[0.0, \"#0d0887\"], [0.1111111111111111, \"#46039f\"], [0.2222222222222222, \"#7201a8\"], [0.3333333333333333, \"#9c179e\"], [0.4444444444444444, \"#bd3786\"], [0.5555555555555556, \"#d8576b\"], [0.6666666666666666, \"#ed7953\"], [0.7777777777777778, \"#fb9f3a\"], [0.8888888888888888, \"#fdca26\"], [1.0, \"#f0f921\"]], \"type\": \"histogram2dcontour\"}], \"mesh3d\": [{\"colorbar\": {\"outlinewidth\": 0, \"ticks\": \"\"}, \"type\": \"mesh3d\"}], \"parcoords\": [{\"line\": {\"colorbar\": {\"outlinewidth\": 0, \"ticks\": \"\"}}, \"type\": \"parcoords\"}], \"pie\": [{\"automargin\": true, \"type\": \"pie\"}], \"scatter\": [{\"marker\": {\"colorbar\": {\"outlinewidth\": 0, \"ticks\": \"\"}}, \"type\": \"scatter\"}], \"scatter3d\": [{\"line\": {\"colorbar\": {\"outlinewidth\": 0, \"ticks\": \"\"}}, \"marker\": {\"colorbar\": {\"outlinewidth\": 0, \"ticks\": \"\"}}, \"type\": \"scatter3d\"}], \"scattercarpet\": [{\"marker\": {\"colorbar\": {\"outlinewidth\": 0, \"ticks\": \"\"}}, \"type\": \"scattercarpet\"}], \"scattergeo\": [{\"marker\": {\"colorbar\": {\"outlinewidth\": 0, \"ticks\": \"\"}}, \"type\": \"scattergeo\"}], \"scattergl\": [{\"marker\": {\"colorbar\": {\"outlinewidth\": 0, \"ticks\": \"\"}}, \"type\": \"scattergl\"}], \"scattermapbox\": [{\"marker\": {\"colorbar\": {\"outlinewidth\": 0, \"ticks\": \"\"}}, \"type\": \"scattermapbox\"}], \"scatterpolar\": [{\"marker\": {\"colorbar\": {\"outlinewidth\": 0, \"ticks\": \"\"}}, \"type\": \"scatterpolar\"}], \"scatterpolargl\": [{\"marker\": {\"colorbar\": {\"outlinewidth\": 0, \"ticks\": \"\"}}, \"type\": \"scatterpolargl\"}], \"scatterternary\": [{\"marker\": {\"colorbar\": {\"outlinewidth\": 0, \"ticks\": \"\"}}, \"type\": \"scatterternary\"}], \"surface\": [{\"colorbar\": {\"outlinewidth\": 0, \"ticks\": \"\"}, \"colorscale\": [[0.0, \"#0d0887\"], [0.1111111111111111, \"#46039f\"], [0.2222222222222222, \"#7201a8\"], [0.3333333333333333, \"#9c179e\"], [0.4444444444444444, \"#bd3786\"], [0.5555555555555556, \"#d8576b\"], [0.6666666666666666, \"#ed7953\"], [0.7777777777777778, \"#fb9f3a\"], [0.8888888888888888, \"#fdca26\"], [1.0, \"#f0f921\"]], \"type\": \"surface\"}], \"table\": [{\"cells\": {\"fill\": {\"color\": \"#EBF0F8\"}, \"line\": {\"color\": \"white\"}}, \"header\": {\"fill\": {\"color\": \"#C8D4E3\"}, \"line\": {\"color\": \"white\"}}, \"type\": \"table\"}]}, \"layout\": {\"annotationdefaults\": {\"arrowcolor\": \"#2a3f5f\", \"arrowhead\": 0, \"arrowwidth\": 1}, \"coloraxis\": {\"colorbar\": {\"outlinewidth\": 0, \"ticks\": \"\"}}, \"colorscale\": {\"diverging\": [[0, \"#8e0152\"], [0.1, \"#c51b7d\"], [0.2, \"#de77ae\"], [0.3, \"#f1b6da\"], [0.4, \"#fde0ef\"], [0.5, \"#f7f7f7\"], [0.6, \"#e6f5d0\"], [0.7, \"#b8e186\"], [0.8, \"#7fbc41\"], [0.9, \"#4d9221\"], [1, \"#276419\"]], \"sequential\": [[0.0, \"#0d0887\"], [0.1111111111111111, \"#46039f\"], [0.2222222222222222, \"#7201a8\"], [0.3333333333333333, \"#9c179e\"], [0.4444444444444444, \"#bd3786\"], [0.5555555555555556, \"#d8576b\"], [0.6666666666666666, \"#ed7953\"], [0.7777777777777778, \"#fb9f3a\"], [0.8888888888888888, \"#fdca26\"], [1.0, \"#f0f921\"]], \"sequentialminus\": [[0.0, \"#0d0887\"], [0.1111111111111111, \"#46039f\"], [0.2222222222222222, \"#7201a8\"], [0.3333333333333333, \"#9c179e\"], [0.4444444444444444, \"#bd3786\"], [0.5555555555555556, \"#d8576b\"], [0.6666666666666666, \"#ed7953\"], [0.7777777777777778, \"#fb9f3a\"], [0.8888888888888888, \"#fdca26\"], [1.0, \"#f0f921\"]]}, \"colorway\": [\"#636efa\", \"#EF553B\", \"#00cc96\", \"#ab63fa\", \"#FFA15A\", \"#19d3f3\", \"#FF6692\", \"#B6E880\", \"#FF97FF\", \"#FECB52\"], \"font\": {\"color\": \"#2a3f5f\"}, \"geo\": {\"bgcolor\": \"white\", \"lakecolor\": \"white\", \"landcolor\": \"#E5ECF6\", \"showlakes\": true, \"showland\": true, \"subunitcolor\": \"white\"}, \"hoverlabel\": {\"align\": \"left\"}, \"hovermode\": \"closest\", \"mapbox\": {\"style\": \"light\"}, \"paper_bgcolor\": \"white\", \"plot_bgcolor\": \"#E5ECF6\", \"polar\": {\"angularaxis\": {\"gridcolor\": \"white\", \"linecolor\": \"white\", \"ticks\": \"\"}, \"bgcolor\": \"#E5ECF6\", \"radialaxis\": {\"gridcolor\": \"white\", \"linecolor\": \"white\", \"ticks\": \"\"}}, \"scene\": {\"xaxis\": {\"backgroundcolor\": \"#E5ECF6\", \"gridcolor\": \"white\", \"gridwidth\": 2, \"linecolor\": \"white\", \"showbackground\": true, \"ticks\": \"\", \"zerolinecolor\": \"white\"}, \"yaxis\": {\"backgroundcolor\": \"#E5ECF6\", \"gridcolor\": \"white\", \"gridwidth\": 2, \"linecolor\": \"white\", \"showbackground\": true, \"ticks\": \"\", \"zerolinecolor\": \"white\"}, \"zaxis\": {\"backgroundcolor\": \"#E5ECF6\", \"gridcolor\": \"white\", \"gridwidth\": 2, \"linecolor\": \"white\", \"showbackground\": true, \"ticks\": \"\", \"zerolinecolor\": \"white\"}}, \"shapedefaults\": {\"line\": {\"color\": \"#2a3f5f\"}}, \"ternary\": {\"aaxis\": {\"gridcolor\": \"white\", \"linecolor\": \"white\", \"ticks\": \"\"}, \"baxis\": {\"gridcolor\": \"white\", \"linecolor\": \"white\", \"ticks\": \"\"}, \"bgcolor\": \"#E5ECF6\", \"caxis\": {\"gridcolor\": \"white\", \"linecolor\": \"white\", \"ticks\": \"\"}}, \"title\": {\"x\": 0.05}, \"xaxis\": {\"automargin\": true, \"gridcolor\": \"white\", \"linecolor\": \"white\", \"ticks\": \"\", \"title\": {\"standoff\": 15}, \"zerolinecolor\": \"white\", \"zerolinewidth\": 2}, \"yaxis\": {\"automargin\": true, \"gridcolor\": \"white\", \"linecolor\": \"white\", \"ticks\": \"\", \"title\": {\"standoff\": 15}, \"zerolinecolor\": \"white\", \"zerolinewidth\": 2}}}},\n",
              "                        {\"responsive\": true}\n",
              "                    ).then(function(){\n",
              "                            \n",
              "var gd = document.getElementById('b2e22aad-b763-4f2e-8e40-9a7f10af995f');\n",
              "var x = new MutationObserver(function (mutations, observer) {{\n",
              "        var display = window.getComputedStyle(gd).display;\n",
              "        if (!display || display === 'none') {{\n",
              "            console.log([gd, 'removed!']);\n",
              "            Plotly.purge(gd);\n",
              "            observer.disconnect();\n",
              "        }}\n",
              "}});\n",
              "\n",
              "// Listen for the removal of the full notebook cells\n",
              "var notebookContainer = gd.closest('#notebook-container');\n",
              "if (notebookContainer) {{\n",
              "    x.observe(notebookContainer, {childList: true});\n",
              "}}\n",
              "\n",
              "// Listen for the clearing of the current output cell\n",
              "var outputEl = gd.closest('.output');\n",
              "if (outputEl) {{\n",
              "    x.observe(outputEl, {childList: true});\n",
              "}}\n",
              "\n",
              "                        })\n",
              "                };\n",
              "                \n",
              "            </script>\n",
              "        </div>\n",
              "</body>\n",
              "</html>"
            ]
          },
          "metadata": {
            "tags": []
          }
        }
      ]
    },
    {
      "cell_type": "markdown",
      "metadata": {
        "id": "G9l72tPcBpQN"
      },
      "source": [
        "I was unable to make the table work because the error I continue to get is \"______ is not defined.\" Because of this, I am not able to see which method is the most effective for estimating the derivative. "
      ]
    },
    {
      "cell_type": "markdown",
      "metadata": {
        "id": "yuhHwM_7CAye"
      },
      "source": [
        "#Lagrange Interpolation"
      ]
    },
    {
      "cell_type": "code",
      "metadata": {
        "id": "ohLGQOO1CRXE"
      },
      "source": [
        "def LagrangeCoefficient(InArray, OutArray, entry, variable):\n",
        "  LC = 1\n",
        "  for i in range (len(InArray)):\n",
        "    if i ==entry:\n",
        "      continue\n",
        "    else:\n",
        "      LC = LC*(variable - InArray[i])/(InArray[entry]-InArray[i])\n",
        "  return LC\n",
        " \n",
        "def LagrangeInter(InArray, OutArray, variable):\n",
        "  LI = 0\n",
        "  for i in range(len(InArray)):\n",
        "     LI = LI + LagrangeCoefficient(InArray, OutArray, i, variable)*(OutArray[i])\n",
        "  return LI"
      ],
      "execution_count": null,
      "outputs": []
    },
    {
      "cell_type": "markdown",
      "metadata": {
        "id": "ZHfrtdF0HLQF"
      },
      "source": [
        "Now we will state what the input values are that we want to run the Lagrange Interpolator through. We will follow this with a graph that will aid in visualizing the results. "
      ]
    },
    {
      "cell_type": "code",
      "metadata": {
        "id": "MYc-n7vMGPXR",
        "colab": {
          "base_uri": "https://localhost:8080/",
          "height": 483
        },
        "outputId": "c9519a4d-7af6-4ee5-bd8e-7cdeba0b36d7"
      },
      "source": [
        "import numpy as np\n",
        "import matplotlib.pyplot as plt\n",
        " \n",
        "InValues = [2,2+.1,-2]\n",
        "OutValues = [1/(1-x) for x in InValues]\n",
        "x = np.arange( 0,2,.01)\n",
        "plt.scatter(InValues, OutValues)\n",
        "plt.plot(x,LagrangeInter(InValues,OutValues,x))\n",
        "plt.plot(x, 1/(1-x))\n",
        "plt.title('Graph of Lagrange Interpolator')\n",
        "plt.legend(['Lagrange Interpolator', '$1/(1-x)$'])\n",
        " \n",
        "plt.show()"
      ],
      "execution_count": null,
      "outputs": [
        {
          "output_type": "error",
          "ename": "NameError",
          "evalue": "ignored",
          "traceback": [
            "\u001b[0;31m---------------------------------------------------------------------------\u001b[0m",
            "\u001b[0;31mNameError\u001b[0m                                 Traceback (most recent call last)",
            "\u001b[0;32m<ipython-input-27-fd4f05687988>\u001b[0m in \u001b[0;36m<module>\u001b[0;34m()\u001b[0m\n\u001b[1;32m      6\u001b[0m \u001b[0mx\u001b[0m \u001b[0;34m=\u001b[0m \u001b[0mnp\u001b[0m\u001b[0;34m.\u001b[0m\u001b[0marange\u001b[0m\u001b[0;34m(\u001b[0m \u001b[0;36m0\u001b[0m\u001b[0;34m,\u001b[0m\u001b[0;36m2\u001b[0m\u001b[0;34m,\u001b[0m\u001b[0;36m.01\u001b[0m\u001b[0;34m)\u001b[0m\u001b[0;34m\u001b[0m\u001b[0;34m\u001b[0m\u001b[0m\n\u001b[1;32m      7\u001b[0m \u001b[0mplt\u001b[0m\u001b[0;34m.\u001b[0m\u001b[0mscatter\u001b[0m\u001b[0;34m(\u001b[0m\u001b[0mInValues\u001b[0m\u001b[0;34m,\u001b[0m \u001b[0mOutValues\u001b[0m\u001b[0;34m)\u001b[0m\u001b[0;34m\u001b[0m\u001b[0;34m\u001b[0m\u001b[0m\n\u001b[0;32m----> 8\u001b[0;31m \u001b[0mplt\u001b[0m\u001b[0;34m.\u001b[0m\u001b[0mplot\u001b[0m\u001b[0;34m(\u001b[0m\u001b[0mx\u001b[0m\u001b[0;34m,\u001b[0m\u001b[0mLagrangeInter\u001b[0m\u001b[0;34m(\u001b[0m\u001b[0mInValues\u001b[0m\u001b[0;34m,\u001b[0m\u001b[0mOutValues\u001b[0m\u001b[0;34m,\u001b[0m\u001b[0mx\u001b[0m\u001b[0;34m)\u001b[0m\u001b[0;34m)\u001b[0m\u001b[0;34m\u001b[0m\u001b[0;34m\u001b[0m\u001b[0m\n\u001b[0m\u001b[1;32m      9\u001b[0m \u001b[0mplt\u001b[0m\u001b[0;34m.\u001b[0m\u001b[0mplot\u001b[0m\u001b[0;34m(\u001b[0m\u001b[0mx\u001b[0m\u001b[0;34m,\u001b[0m \u001b[0;36m1\u001b[0m\u001b[0;34m/\u001b[0m\u001b[0;34m(\u001b[0m\u001b[0;36m1\u001b[0m\u001b[0;34m-\u001b[0m\u001b[0mx\u001b[0m\u001b[0;34m)\u001b[0m\u001b[0;34m)\u001b[0m\u001b[0;34m\u001b[0m\u001b[0;34m\u001b[0m\u001b[0m\n\u001b[1;32m     10\u001b[0m \u001b[0mplt\u001b[0m\u001b[0;34m.\u001b[0m\u001b[0mtitle\u001b[0m\u001b[0;34m(\u001b[0m\u001b[0;34m'Graph of Lagrange Interpolator'\u001b[0m\u001b[0;34m)\u001b[0m\u001b[0;34m\u001b[0m\u001b[0;34m\u001b[0m\u001b[0m\n",
            "\u001b[0;31mNameError\u001b[0m: name 'LagrangeInter' is not defined"
          ]
        },
        {
          "output_type": "display_data",
          "data": {
            "image/png": "[encoded data removed]",
            "text/plain": [
              "<Figure size 432x288 with 1 Axes>"
            ]
          },
          "metadata": {
            "tags": [],
            "needs_background": "light"
          }
        }
      ]
    },
    {
      "cell_type": "markdown",
      "metadata": {
        "id": "Ix_VWJ65eMTS"
      },
      "source": [
        "We will now take a look at how well our Interpolator estimated the derivates with some error analysis. "
      ]
    },
    {
      "cell_type": "code",
      "metadata": {
        "id": "bMvRoEg2UgIv",
        "colab": {
          "base_uri": "https://localhost:8080/",
          "height": 163
        },
        "outputId": "dded7786-dd41-47d2-b7fb-de4382c7b7de"
      },
      "source": [
        "LagrangeErrors = [TrueError(LagrangeInter(InValues, OutValues, 2+.2),1/(1-(2.2))), RelativeError(LagrangeInter(InValues, OutValues, 2+.2),1/(1-(2.2))]"
      ],
      "execution_count": null,
      "outputs": [
        {
          "output_type": "error",
          "ename": "SyntaxError",
          "evalue": "ignored",
          "traceback": [
            "\u001b[0;36m  File \u001b[0;32m\"<ipython-input-31-2eb781843c9c>\"\u001b[0;36m, line \u001b[0;32m1\u001b[0m\n\u001b[0;31m    LagrangeErrors = [TrueError(LagrangeInter(InValues, OutValues, 2+.2),1/(1-(2.2))), RelativeError(LagrangeInter(InValues, OutValues, 2+.2),1/(1-(2.2))]\u001b[0m\n\u001b[0m                                                                                                                                                         ^\u001b[0m\n\u001b[0;31mSyntaxError\u001b[0m\u001b[0;31m:\u001b[0m invalid syntax\n"
          ]
        }
      ]
    },
    {
      "cell_type": "markdown",
      "metadata": {
        "id": "QoxxLrkPfSey"
      },
      "source": [
        "LagrangeErrors will not run because I can not figure out how to define LagrangeInter many steps prior. "
      ]
    }
  ]
}
