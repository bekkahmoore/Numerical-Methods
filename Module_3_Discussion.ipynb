{
  "nbformat": 4,
  "nbformat_minor": 0,
  "metadata": {
    "colab": {
      "name": "Module 3 Discussion",
      "provenance": [],
      "authorship_tag": "ABX9TyOAjh+9V+dd2mR1BdfxfXyG",
      "include_colab_link": true
    },
    "kernelspec": {
      "name": "python3",
      "display_name": "Python 3"
    }
  },
  "cells": [
    {
      "cell_type": "markdown",
      "metadata": {
        "id": "view-in-github",
        "colab_type": "text"
      },
      "source": [
        "<a href=\"https://colab.research.google.com/github/bekkahmoore/Numerical-Methods/blob/main/Module_3_Discussion.ipynb\" target=\"_parent\"><img src=\"https://colab.research.google.com/assets/colab-badge.svg\" alt=\"Open In Colab\"/></a>"
      ]
    },
    {
      "cell_type": "markdown",
      "metadata": {
        "id": "Cai0H8tKw3-D"
      },
      "source": [
        "#Module 3 Discussion\r\n",
        "##Root Finding\r\n",
        "##Bekkah Moore"
      ]
    },
    {
      "cell_type": "code",
      "metadata": {
        "colab": {
          "base_uri": "https://localhost:8080/"
        },
        "id": "fC07e7bMw1lI",
        "outputId": "b87dcc49-8b41-4940-ebec-ab0252e3c22c"
      },
      "source": [
        "import numpy as np\r\n",
        "from scipy.misc import derivative\r\n",
        "\r\n",
        "x_n = 1\r\n",
        "x = np.linspace(-1, 1, 500)\r\n",
        "\r\n",
        "def f(x):\r\n",
        "  return 3*x**3+3*x+3\r\n",
        "\r\n",
        "def x_next(f, x, x_n):\r\n",
        "  slope = derivative(f, x_n, dx=1)\r\n",
        "  return x_n - f(x_n) / slope\r\n",
        "\r\n",
        "for n in range(20):\r\n",
        "  print('x_{} = {:.6f}'.format(n+1, x_n))\r\n",
        "  x_n = x_next(f, x, x_n)"
      ],
      "execution_count": 7,
      "outputs": [
        {
          "output_type": "stream",
          "text": [
            "x_1 = 1.000000\n",
            "x_2 = 0.400000\n",
            "x_3 = -0.190323\n",
            "x_4 = -0.571029\n",
            "x_5 = -0.652545\n",
            "x_6 = -0.673779\n",
            "x_7 = -0.679829\n",
            "x_8 = -0.681594\n",
            "x_9 = -0.682112\n",
            "x_10 = -0.682264\n",
            "x_11 = -0.682309\n",
            "x_12 = -0.682322\n",
            "x_13 = -0.682326\n",
            "x_14 = -0.682327\n",
            "x_15 = -0.682328\n",
            "x_16 = -0.682328\n",
            "x_17 = -0.682328\n",
            "x_18 = -0.682328\n",
            "x_19 = -0.682328\n",
            "x_20 = -0.682328\n"
          ],
          "name": "stdout"
        }
      ]
    },
    {
      "cell_type": "markdown",
      "metadata": {
        "id": "dfEwTBqJ3zyH"
      },
      "source": [
        "I'll now make a graph to represent my function to prove I have found a root."
      ]
    },
    {
      "cell_type": "code",
      "metadata": {
        "colab": {
          "base_uri": "https://localhost:8080/",
          "height": 295
        },
        "id": "bJgj2YOk3r0f",
        "outputId": "a0ce28be-68e6-4868-aeb7-99a23b5db42b"
      },
      "source": [
        "import numpy as np\r\n",
        "import matplotlib.pyplot as plt\r\n",
        "\r\n",
        "a = 3\r\n",
        "b = 0\r\n",
        "c = 3\r\n",
        "d = 3\r\n",
        "x = np.linspace(-2, 2, 300, endpoint = True)\r\n",
        "y = (a * (x * x * x)) + (b * 0) + (c * x)+d\r\n",
        "\r\n",
        "plt.plot(x, y, '-g', label=r'$y = 3x^3 + 3x + 3$')\r\n",
        "\r\n",
        "axes = plt.gca()\r\n",
        "axes.set_xlim([x.min(), x.max()])\r\n",
        "axes.set_ylim([y.min(), y.max()])\r\n",
        "\r\n",
        "plt.xlabel('x')\r\n",
        "plt.ylabel('y')\r\n",
        "plt.title('Cubic Curve')\r\n",
        "plt.legend(loc='upper left')\r\n",
        "\r\n",
        "plt.show()\r\n"
      ],
      "execution_count": 18,
      "outputs": [
        {
          "output_type": "display_data",
          "data": {
            "image/png": "[encoded data removed]",
            "text/plain": [
              "<Figure size 432x288 with 1 Axes>"
            ]
          },
          "metadata": {
            "tags": [],
            "needs_background": "light"
          }
        }
      ]
    },
    {
      "cell_type": "markdown",
      "metadata": {
        "id": "VyilCQ9h3dvG"
      },
      "source": [
        "Let me explain: \r\n",
        "* I imported the different packages to help me execute the functions I would need to find the root of my cubic function. \r\n",
        "* x_n is my guess value. I guess right off the bat that my root would be close to 1. \r\n",
        "* The numpy.linspace function is basically starting at -1, ending at 1, and estimating 500 points in between to try and get as close to the root as possible.\r\n",
        "* After defining my function, I defined x_next, which calculated what the next value of x would be as it got closer to the root. \r\n",
        "* I then made a function to print out what each x would be all the way to x_20. At x_15 I found that we arrived and remained at the root for my function $3x^3+3x+3$, which is -0.682328.\r\n",
        "* From the graph, you can see that the curve crosses 0 between -0.5 and -1. I found the root to be -0.682328, which falls right within that parameter. I would call this a success. \r\n",
        "*Below I've linked the YouTube video that helped me accomplish this in order to give credit where credit is due."
      ]
    },
    {
      "cell_type": "code",
      "metadata": {
        "id": "ToENzfnzzBin"
      },
      "source": [
        "https://www.youtube.com/watch?v=b2eULzgZuo8"
      ],
      "execution_count": null,
      "outputs": []
    }
  ]
}