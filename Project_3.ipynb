{
  "nbformat": 4,
  "nbformat_minor": 0,
  "metadata": {
    "colab": {
      "name": "Project 3",
      "provenance": [],
      "collapsed_sections": [],
      "include_colab_link": true
    },
    "kernelspec": {
      "name": "python3",
      "display_name": "Python 3"
    }
  },
  "cells": [
    {
      "cell_type": "markdown",
      "metadata": {
        "id": "view-in-github",
        "colab_type": "text"
      },
      "source": [
        "<a href=\"https://colab.research.google.com/github/bekkahmoore/Numerical-Methods/blob/main/Project_3.ipynb\" target=\"_parent\"><img src=\"https://colab.research.google.com/assets/colab-badge.svg\" alt=\"Open In Colab\"/></a>"
      ]
    },
    {
      "cell_type": "markdown",
      "metadata": {
        "id": "anbgLDXp57UH"
      },
      "source": [
        "#Project 3#\r\n",
        "##Sanjiv T, Kushal K, Aayush K, Bekkah M##\r\n",
        "##Numerical Methods --> Dr. Jacob##\r\n",
        "\r\n",
        "\r\n"
      ]
    },
    {
      "cell_type": "markdown",
      "metadata": {
        "id": "xLJMfRz76Jb3"
      },
      "source": [
        "We will utilize a lot of the code for error approximation we built in the first and second parts of this project here as well: "
      ]
    },
    {
      "cell_type": "code",
      "metadata": {
        "id": "NMwfB7Wn6Xm0"
      },
      "source": [
        "import math\r\n",
        " \r\n",
        "def TrueError(TrueValue, Estimate):\r\n",
        "  return TrueValue - Estimate \r\n",
        " \r\n",
        "def RelativeError(TrueValue, Estimate):\r\n",
        "  return TrueError(TrueValue, Estimate)/TrueValue\r\n",
        " \r\n",
        "def ApproxError(PresentEstimate, PreviousEstimate):\r\n",
        "  return PresentEstimate - PreviousEstimate\r\n",
        " \r\n",
        "def RelativeApproxError(PresentEstimate, PreviousEstimate):\r\n",
        "  return ApproxError(PresentEstimate, PreviousEstimate)/PresentEstimate\r\n",
        " \r\n",
        "def TaylorCoefficient(n):\r\n",
        "  return (-1**(n)/3**(n))\r\n",
        " \r\n",
        "def TaylorTerm(n, input):\r\n",
        "  return TaylorCoefficient(n)*(input-2)**n\r\n",
        " \r\n",
        "def TaylorPolynomial(n, input):\r\n",
        "  sum = 0\r\n",
        "  for i in range(0,n+1):\r\n",
        "    sum = sum + TaylorTerm(i, input)\r\n",
        "  return sum"
      ],
      "execution_count": null,
      "outputs": []
    },
    {
      "cell_type": "markdown",
      "metadata": {
        "id": "qdZYL8CUzu3t"
      },
      "source": [
        "#New Rapshon Method"
      ]
    },
    {
      "cell_type": "markdown",
      "metadata": {
        "id": "cyHVReCPxW2e"
      },
      "source": [
        "\n",
        "It is the symbolic knowledge of the first derivative. The Newton-Raphson method is also known as Newton's method. This help is to find is a good approximation for the root of a real-valued function f ( x ) = 0 f(x) = 0 f(x)=0. It is based on the idea of a continuous and differentiable function. It can be approximated by a straight line tangent to it.\n",
        "The formula :\n",
        "$$\n",
        "x_{i+1}= x_i-\\frac{f(x_i)}{f'(x_i)}\n",
        "$$\n",
        "\n"
      ]
    },
    {
      "cell_type": "code",
      "metadata": {
        "id": "GOL_NRjlyum4"
      },
      "source": [
        "import math\r\n",
        "import numpy as np\r\n",
        "from scipy.misc import derivative\r\n",
        "def newton_rep(function, derivative, presentValue):\r\n",
        "   rootValue=presentValue - function(presentValue)/derivative(presentValue)\r\n",
        "   return rootValue\r\n",
        "\r\n",
        "   \r\n",
        "\r\n",
        "def newton(function, derivative, starter, tolerance, max_rep):\r\n",
        "  x = starter\r\n",
        "  for counter in range(max_rep):\r\n",
        "    if derivative(x) == 0:\r\n",
        "      return None\r\n",
        "    if abs(function(x))< tolerance:\r\n",
        "      return [x,counter]\r\n",
        "    x = newton_rep(function, derivative, x)\r\n",
        "  return None\r\n",
        "  \r\n"
      ],
      "execution_count": null,
      "outputs": []
    },
    {
      "cell_type": "code",
      "metadata": {
        "id": "pGaZDmUq0lXN"
      },
      "source": [
        "initial_seeds=[14,8,15,9,13,-4,-6,-14]\r\n",
        "roots = []\r\n",
        "itern_s = []\r\n",
        "\r\n",
        "for seed in initial_seeds:\r\n",
        "  if newton(lambda:1-x, lambda:x, seed,1e-10,20) != None: \r\n",
        "    roots.append(newton(lambda:1-x, lambda:x,seed,1e-10,20)[0])\r\n",
        "    itern_s.append(newton(lambda:1-x,lambda:x,seed,1e-10,20)[1])\r\n",
        "  else:\r\n",
        "    roots.append('None Found')\r\n",
        "    itern_s.append('>20')"
      ],
      "execution_count": null,
      "outputs": []
    },
    {
      "cell_type": "markdown",
      "metadata": {
        "id": "7R2D2vHUx5JG"
      },
      "source": [
        "We are going to use the package plotty here."
      ]
    },
    {
      "cell_type": "code",
      "metadata": {
        "colab": {
          "base_uri": "https://localhost:8080/",
          "height": 542
        },
        "id": "GwLvKUyRM_sY",
        "outputId": "5bd0c8a4-c5da-4aa3-9168-d9a012874fcd"
      },
      "source": [
        "import plotly.graph_objects as go\r\n",
        "from plotly.subplots import make_subplots\r\n",
        "\r\n",
        "fig = go.Figure(data=[go.Table(\r\n",
        "                header=dict(values=['Seeds', 'Roots', 'itern_s']),\r\n",
        "                 cells=dict(values = [initial_seeds,roots,itern_s]))\r\n",
        "                     ])\r\n",
        "fig.show()"
      ],
      "execution_count": null,
      "outputs": [
        {
          "output_type": "display_data",
          "data": {
            "text/html": [
              "<html>\n",
              "<head><meta charset=\"utf-8\" /></head>\n",
              "<body>\n",
              "    <div>\n",
              "            <script src=\"https://cdnjs.cloudflare.com/ajax/libs/mathjax/2.7.5/MathJax.js?config=TeX-AMS-MML_SVG\"></script><script type=\"text/javascript\">if (window.MathJax) {MathJax.Hub.Config({SVG: {font: \"STIX-Web\"}});}</script>\n",
              "                <script type=\"text/javascript\">window.PlotlyConfig = {MathJaxConfig: 'local'};</script>\n",
              "        <script src=\"https://cdn.plot.ly/plotly-latest.min.js\"></script>    \n",
              "            <div id=\"21bba5a1-48db-4c10-9ac9-a25240c43915\" class=\"plotly-graph-div\" style=\"height:525px; width:100%;\"></div>\n",
              "            <script type=\"text/javascript\">\n",
              "                \n",
              "                    window.PLOTLYENV=window.PLOTLYENV || {};\n",
              "                    \n",
              "                if (document.getElementById(\"21bba5a1-48db-4c10-9ac9-a25240c43915\")) {\n",
              "                    Plotly.newPlot(\n",
              "                        '21bba5a1-48db-4c10-9ac9-a25240c43915',\n",
              "                        [{\"cells\": {\"values\": [[14, 8, 15, 9, 13, -4, -6, -14], [6.2831853071795845, 15.707963267948966, 15.707963267948966, 9.42477796076938, 12.566370614359172, -3.141592653589793, -6.283185307179586, -6.2831853071795845], [4, 5, 4, 3, 3, 4, 3, 4]]}, \"header\": {\"values\": [\"Seeds\", \"Roots\", \"itern_s\"]}, \"type\": \"table\"}],\n",
              "                        {\"template\": {\"data\": {\"bar\": [{\"error_x\": {\"color\": \"#2a3f5f\"}, \"error_y\": {\"color\": \"#2a3f5f\"}, \"marker\": {\"line\": {\"color\": \"#E5ECF6\", \"width\": 0.5}}, \"type\": \"bar\"}], \"barpolar\": [{\"marker\": {\"line\": {\"color\": \"#E5ECF6\", \"width\": 0.5}}, \"type\": \"barpolar\"}], \"carpet\": [{\"aaxis\": {\"endlinecolor\": \"#2a3f5f\", \"gridcolor\": \"white\", \"linecolor\": \"white\", \"minorgridcolor\": \"white\", \"startlinecolor\": \"#2a3f5f\"}, \"baxis\": {\"endlinecolor\": \"#2a3f5f\", \"gridcolor\": \"white\", \"linecolor\": \"white\", \"minorgridcolor\": \"white\", \"startlinecolor\": \"#2a3f5f\"}, \"type\": \"carpet\"}], \"choropleth\": [{\"colorbar\": {\"outlinewidth\": 0, \"ticks\": \"\"}, \"type\": \"choropleth\"}], \"contour\": [{\"colorbar\": {\"outlinewidth\": 0, \"ticks\": \"\"}, \"colorscale\": [[0.0, \"#0d0887\"], [0.1111111111111111, \"#46039f\"], [0.2222222222222222, \"#7201a8\"], [0.3333333333333333, \"#9c179e\"], [0.4444444444444444, \"#bd3786\"], [0.5555555555555556, \"#d8576b\"], [0.6666666666666666, \"#ed7953\"], [0.7777777777777778, \"#fb9f3a\"], [0.8888888888888888, \"#fdca26\"], [1.0, \"#f0f921\"]], \"type\": \"contour\"}], \"contourcarpet\": [{\"colorbar\": {\"outlinewidth\": 0, \"ticks\": \"\"}, \"type\": \"contourcarpet\"}], \"heatmap\": [{\"colorbar\": {\"outlinewidth\": 0, \"ticks\": \"\"}, \"colorscale\": [[0.0, \"#0d0887\"], [0.1111111111111111, \"#46039f\"], [0.2222222222222222, \"#7201a8\"], [0.3333333333333333, \"#9c179e\"], [0.4444444444444444, \"#bd3786\"], [0.5555555555555556, \"#d8576b\"], [0.6666666666666666, \"#ed7953\"], [0.7777777777777778, \"#fb9f3a\"], [0.8888888888888888, \"#fdca26\"], [1.0, \"#f0f921\"]], \"type\": \"heatmap\"}], \"heatmapgl\": [{\"colorbar\": {\"outlinewidth\": 0, \"ticks\": \"\"}, \"colorscale\": [[0.0, \"#0d0887\"], [0.1111111111111111, \"#46039f\"], [0.2222222222222222, \"#7201a8\"], [0.3333333333333333, \"#9c179e\"], [0.4444444444444444, \"#bd3786\"], [0.5555555555555556, \"#d8576b\"], [0.6666666666666666, \"#ed7953\"], [0.7777777777777778, \"#fb9f3a\"], [0.8888888888888888, \"#fdca26\"], [1.0, \"#f0f921\"]], \"type\": \"heatmapgl\"}], \"histogram\": [{\"marker\": {\"colorbar\": {\"outlinewidth\": 0, \"ticks\": \"\"}}, \"type\": \"histogram\"}], \"histogram2d\": [{\"colorbar\": {\"outlinewidth\": 0, \"ticks\": \"\"}, \"colorscale\": [[0.0, \"#0d0887\"], [0.1111111111111111, \"#46039f\"], [0.2222222222222222, \"#7201a8\"], [0.3333333333333333, \"#9c179e\"], [0.4444444444444444, \"#bd3786\"], [0.5555555555555556, \"#d8576b\"], [0.6666666666666666, \"#ed7953\"], [0.7777777777777778, \"#fb9f3a\"], [0.8888888888888888, \"#fdca26\"], [1.0, \"#f0f921\"]], \"type\": \"histogram2d\"}], \"histogram2dcontour\": [{\"colorbar\": {\"outlinewidth\": 0, \"ticks\": \"\"}, \"colorscale\": [[0.0, \"#0d0887\"], [0.1111111111111111, \"#46039f\"], [0.2222222222222222, \"#7201a8\"], [0.3333333333333333, \"#9c179e\"], [0.4444444444444444, \"#bd3786\"], [0.5555555555555556, \"#d8576b\"], [0.6666666666666666, \"#ed7953\"], [0.7777777777777778, \"#fb9f3a\"], [0.8888888888888888, \"#fdca26\"], [1.0, \"#f0f921\"]], \"type\": \"histogram2dcontour\"}], \"mesh3d\": [{\"colorbar\": {\"outlinewidth\": 0, \"ticks\": \"\"}, \"type\": \"mesh3d\"}], \"parcoords\": [{\"line\": {\"colorbar\": {\"outlinewidth\": 0, \"ticks\": \"\"}}, \"type\": \"parcoords\"}], \"pie\": [{\"automargin\": true, \"type\": \"pie\"}], \"scatter\": [{\"marker\": {\"colorbar\": {\"outlinewidth\": 0, \"ticks\": \"\"}}, \"type\": \"scatter\"}], \"scatter3d\": [{\"line\": {\"colorbar\": {\"outlinewidth\": 0, \"ticks\": \"\"}}, \"marker\": {\"colorbar\": {\"outlinewidth\": 0, \"ticks\": \"\"}}, \"type\": \"scatter3d\"}], \"scattercarpet\": [{\"marker\": {\"colorbar\": {\"outlinewidth\": 0, \"ticks\": \"\"}}, \"type\": \"scattercarpet\"}], \"scattergeo\": [{\"marker\": {\"colorbar\": {\"outlinewidth\": 0, \"ticks\": \"\"}}, \"type\": \"scattergeo\"}], \"scattergl\": [{\"marker\": {\"colorbar\": {\"outlinewidth\": 0, \"ticks\": \"\"}}, \"type\": \"scattergl\"}], \"scattermapbox\": [{\"marker\": {\"colorbar\": {\"outlinewidth\": 0, \"ticks\": \"\"}}, \"type\": \"scattermapbox\"}], \"scatterpolar\": [{\"marker\": {\"colorbar\": {\"outlinewidth\": 0, \"ticks\": \"\"}}, \"type\": \"scatterpolar\"}], \"scatterpolargl\": [{\"marker\": {\"colorbar\": {\"outlinewidth\": 0, \"ticks\": \"\"}}, \"type\": \"scatterpolargl\"}], \"scatterternary\": [{\"marker\": {\"colorbar\": {\"outlinewidth\": 0, \"ticks\": \"\"}}, \"type\": \"scatterternary\"}], \"surface\": [{\"colorbar\": {\"outlinewidth\": 0, \"ticks\": \"\"}, \"colorscale\": [[0.0, \"#0d0887\"], [0.1111111111111111, \"#46039f\"], [0.2222222222222222, \"#7201a8\"], [0.3333333333333333, \"#9c179e\"], [0.4444444444444444, \"#bd3786\"], [0.5555555555555556, \"#d8576b\"], [0.6666666666666666, \"#ed7953\"], [0.7777777777777778, \"#fb9f3a\"], [0.8888888888888888, \"#fdca26\"], [1.0, \"#f0f921\"]], \"type\": \"surface\"}], \"table\": [{\"cells\": {\"fill\": {\"color\": \"#EBF0F8\"}, \"line\": {\"color\": \"white\"}}, \"header\": {\"fill\": {\"color\": \"#C8D4E3\"}, \"line\": {\"color\": \"white\"}}, \"type\": \"table\"}]}, \"layout\": {\"annotationdefaults\": {\"arrowcolor\": \"#2a3f5f\", \"arrowhead\": 0, \"arrowwidth\": 1}, \"coloraxis\": {\"colorbar\": {\"outlinewidth\": 0, \"ticks\": \"\"}}, \"colorscale\": {\"diverging\": [[0, \"#8e0152\"], [0.1, \"#c51b7d\"], [0.2, \"#de77ae\"], [0.3, \"#f1b6da\"], [0.4, \"#fde0ef\"], [0.5, \"#f7f7f7\"], [0.6, \"#e6f5d0\"], [0.7, \"#b8e186\"], [0.8, \"#7fbc41\"], [0.9, \"#4d9221\"], [1, \"#276419\"]], \"sequential\": [[0.0, \"#0d0887\"], [0.1111111111111111, \"#46039f\"], [0.2222222222222222, \"#7201a8\"], [0.3333333333333333, \"#9c179e\"], [0.4444444444444444, \"#bd3786\"], [0.5555555555555556, \"#d8576b\"], [0.6666666666666666, \"#ed7953\"], [0.7777777777777778, \"#fb9f3a\"], [0.8888888888888888, \"#fdca26\"], [1.0, \"#f0f921\"]], \"sequentialminus\": [[0.0, \"#0d0887\"], [0.1111111111111111, \"#46039f\"], [0.2222222222222222, \"#7201a8\"], [0.3333333333333333, \"#9c179e\"], [0.4444444444444444, \"#bd3786\"], [0.5555555555555556, \"#d8576b\"], [0.6666666666666666, \"#ed7953\"], [0.7777777777777778, \"#fb9f3a\"], [0.8888888888888888, \"#fdca26\"], [1.0, \"#f0f921\"]]}, \"colorway\": [\"#636efa\", \"#EF553B\", \"#00cc96\", \"#ab63fa\", \"#FFA15A\", \"#19d3f3\", \"#FF6692\", \"#B6E880\", \"#FF97FF\", \"#FECB52\"], \"font\": {\"color\": \"#2a3f5f\"}, \"geo\": {\"bgcolor\": \"white\", \"lakecolor\": \"white\", \"landcolor\": \"#E5ECF6\", \"showlakes\": true, \"showland\": true, \"subunitcolor\": \"white\"}, \"hoverlabel\": {\"align\": \"left\"}, \"hovermode\": \"closest\", \"mapbox\": {\"style\": \"light\"}, \"paper_bgcolor\": \"white\", \"plot_bgcolor\": \"#E5ECF6\", \"polar\": {\"angularaxis\": {\"gridcolor\": \"white\", \"linecolor\": \"white\", \"ticks\": \"\"}, \"bgcolor\": \"#E5ECF6\", \"radialaxis\": {\"gridcolor\": \"white\", \"linecolor\": \"white\", \"ticks\": \"\"}}, \"scene\": {\"xaxis\": {\"backgroundcolor\": \"#E5ECF6\", \"gridcolor\": \"white\", \"gridwidth\": 2, \"linecolor\": \"white\", \"showbackground\": true, \"ticks\": \"\", \"zerolinecolor\": \"white\"}, \"yaxis\": {\"backgroundcolor\": \"#E5ECF6\", \"gridcolor\": \"white\", \"gridwidth\": 2, \"linecolor\": \"white\", \"showbackground\": true, \"ticks\": \"\", \"zerolinecolor\": \"white\"}, \"zaxis\": {\"backgroundcolor\": \"#E5ECF6\", \"gridcolor\": \"white\", \"gridwidth\": 2, \"linecolor\": \"white\", \"showbackground\": true, \"ticks\": \"\", \"zerolinecolor\": \"white\"}}, \"shapedefaults\": {\"line\": {\"color\": \"#2a3f5f\"}}, \"ternary\": {\"aaxis\": {\"gridcolor\": \"white\", \"linecolor\": \"white\", \"ticks\": \"\"}, \"baxis\": {\"gridcolor\": \"white\", \"linecolor\": \"white\", \"ticks\": \"\"}, \"bgcolor\": \"#E5ECF6\", \"caxis\": {\"gridcolor\": \"white\", \"linecolor\": \"white\", \"ticks\": \"\"}}, \"title\": {\"x\": 0.05}, \"xaxis\": {\"automargin\": true, \"gridcolor\": \"white\", \"linecolor\": \"white\", \"ticks\": \"\", \"title\": {\"standoff\": 15}, \"zerolinecolor\": \"white\", \"zerolinewidth\": 2}, \"yaxis\": {\"automargin\": true, \"gridcolor\": \"white\", \"linecolor\": \"white\", \"ticks\": \"\", \"title\": {\"standoff\": 15}, \"zerolinecolor\": \"white\", \"zerolinewidth\": 2}}}},\n",
              "                        {\"responsive\": true}\n",
              "                    ).then(function(){\n",
              "                            \n",
              "var gd = document.getElementById('21bba5a1-48db-4c10-9ac9-a25240c43915');\n",
              "var x = new MutationObserver(function (mutations, observer) {{\n",
              "        var display = window.getComputedStyle(gd).display;\n",
              "        if (!display || display === 'none') {{\n",
              "            console.log([gd, 'removed!']);\n",
              "            Plotly.purge(gd);\n",
              "            observer.disconnect();\n",
              "        }}\n",
              "}});\n",
              "\n",
              "// Listen for the removal of the full notebook cells\n",
              "var notebookContainer = gd.closest('#notebook-container');\n",
              "if (notebookContainer) {{\n",
              "    x.observe(notebookContainer, {childList: true});\n",
              "}}\n",
              "\n",
              "// Listen for the clearing of the current output cell\n",
              "var outputEl = gd.closest('.output');\n",
              "if (outputEl) {{\n",
              "    x.observe(outputEl, {childList: true});\n",
              "}}\n",
              "\n",
              "                        })\n",
              "                };\n",
              "                \n",
              "            </script>\n",
              "        </div>\n",
              "</body>\n",
              "</html>"
            ]
          },
          "metadata": {
            "tags": []
          }
        }
      ]
    },
    {
      "cell_type": "markdown",
      "metadata": {
        "id": "ssigK5IYOSEp"
      },
      "source": [
        "# Bisection Method"
      ]
    },
    {
      "cell_type": "markdown",
      "metadata": {
        "id": "eW550xBcyq1b"
      },
      "source": [
        "We have chosen Bisection Method for this part. We have wisely chosen the returning positive and negative values."
      ]
    },
    {
      "cell_type": "code",
      "metadata": {
        "colab": {
          "base_uri": "https://localhost:8080/"
        },
        "id": "BqemBVpVhm-9",
        "outputId": "37f5a43a-2d65-4e1f-85dd-b2be4108715d"
      },
      "source": [
        "import math\r\n",
        "def bisection(f, a, b):\r\n",
        "    \r\n",
        "    fa = f(a)\r\n",
        "    fb = f(b)\r\n",
        "    \r\n",
        "    if fa*fb > 0:\r\n",
        "        print(\"f(a) and f(b) must have different signs.\")\r\n",
        "        return None\r\n",
        "    \r\n",
        "    for _ in range(100):\r\n",
        "        \r\n",
        "        c = (a + b)/2\r\n",
        "        fc = f(c)\r\n",
        "        \r\n",
        "        if fc == 0:\r\n",
        "            break\r\n",
        "    \r\n",
        "        if fb*fc > 0:\r\n",
        "            a, fz = c, fc\r\n",
        "    \r\n",
        "        if fb*fc > 0: \r\n",
        "            b, fb = c, fc\r\n",
        "    \r\n",
        "    return c\r\n",
        "\r\n",
        "func = lambda x:  x**3 -x - 1\r\n",
        "a = 1\r\n",
        "b = 5\r\n",
        "\r\n",
        "x = bisection(func, a, b)\r\n",
        "print(\"Roots: {}\".format((1 + math.sqrt(5))/2))\r\n",
        "\r\n",
        "    \r\n",
        "    \r\n",
        "    "
      ],
      "execution_count": null,
      "outputs": [
        {
          "output_type": "stream",
          "text": [
            "Roots: 1.618033988749895\n"
          ],
          "name": "stdout"
        }
      ]
    },
    {
      "cell_type": "markdown",
      "metadata": {
        "id": "xvbmgciNgmar"
      },
      "source": [
        "#Lagrange Interpolation#\r\n"
      ]
    },
    {
      "cell_type": "markdown",
      "metadata": {
        "id": "MrCXcWubzie4"
      },
      "source": [
        "It is one of the method to find a polynomial that will take some certain values at arbitrary points."
      ]
    },
    {
      "cell_type": "code",
      "metadata": {
        "id": "p4IkfxL8kJhE"
      },
      "source": [
        "def f(x): \r\n",
        "  return 1/(1-x)\r\n",
        "  \r\n",
        "def LagrangeCoefficient(InArray,OutArray,entry,variable):\r\n",
        "  LC = 1\r\n",
        "  for i in range(len(InArray)):\r\n",
        "    if i == entry:\r\n",
        "      continue\r\n",
        "    else:\r\n",
        "      LC = LC*(variable - InArray[i])/(InArray[entry]-InArray[i])\r\n",
        "  return LC\r\n",
        "\r\n",
        "def LagrangeInter(InArray, OutArray, variable):\r\n",
        "  LI = 0\r\n",
        "  for i in range(len(InArray)):\r\n",
        "    LI = LI + LagrangeCoefficient(InArray,OutArray,i,variable)*OutArray[i]\r\n",
        "  return LI"
      ],
      "execution_count": null,
      "outputs": []
    },
    {
      "cell_type": "code",
      "metadata": {
        "id": "HvP9GNy6kKqn"
      },
      "source": [
        "inputValues = [2, 2.1, 2.2, 4]\r\n",
        "outputValues = [f(x) for x in inputValues]"
      ],
      "execution_count": null,
      "outputs": []
    },
    {
      "cell_type": "code",
      "metadata": {
        "colab": {
          "base_uri": "https://localhost:8080/",
          "height": 314
        },
        "id": "Fij7zMcWkdfg",
        "outputId": "55dc4581-b4e8-45b7-ccf7-19565f352bb0"
      },
      "source": [
        "\r\n",
        "import matplotlib.pyplot as plt\r\n",
        "import numpy as np\r\n",
        "\r\n",
        "x = np.arange( 0,3,.001)\r\n",
        "plt.scatter(inputValues,outputValues)\r\n",
        "plt.plot(x,LagrangeInter(inputValues,outputValues,x))\r\n",
        "plt.plot(x, f(x))\r\n",
        "plt.title('Graph of Lagrange Interpolator')\r\n",
        "plt.legend(['Lagrange Interpolator', '1/(1-x) function'])\r\n",
        "plt.grid()\r\n",
        "plt.show()"
      ],
      "execution_count": null,
      "outputs": [
        {
          "output_type": "stream",
          "text": [
            "/usr/local/lib/python3.6/dist-packages/ipykernel_launcher.py:2: RuntimeWarning: divide by zero encountered in true_divide\n",
            "  \n"
          ],
          "name": "stderr"
        },
        {
          "output_type": "display_data",
          "data": {
            "image/png": "[encoded data removed]",
            "text/plain": [
              "<Figure size 432x288 with 1 Axes>"
            ]
          },
          "metadata": {
            "tags": [],
            "needs_background": "light"
          }
        }
      ]
    },
    {
      "cell_type": "code",
      "metadata": {
        "id": "A2jaPJb2lLGJ"
      },
      "source": [
        "anonymous = lambda x: lagrangeInterpolator(inputValues,outputValues,x)\r\n",
        "bisection(anonymous,2,0)"
      ],
      "execution_count": null,
      "outputs": []
    },
    {
      "cell_type": "code",
      "metadata": {
        "id": "LqPKwTFrmWtL"
      },
      "source": [
        "bisection(anonymous,2.0001,0)"
      ],
      "execution_count": null,
      "outputs": []
    },
    {
      "cell_type": "markdown",
      "metadata": {
        "id": "T9VSmxaU1gSU"
      },
      "source": [
        "#Differences NewRapshon and Other methods of Algorithm"
      ]
    },
    {
      "cell_type": "markdown",
      "metadata": {
        "id": "T5Qd78OW1r1f"
      },
      "source": [
        "These methods are equivalent in respect of geometric perspective. \n",
        "However, there are differences among them.\n",
        "New Rapshon Method uses a line which is tangent to one point but secant uses a line that is secant at two points. New Rapshon methods converges quadrilaterally. Secant converges superlinearly. While Bisection method converges linearly. Secant method is a numerical approximation of the derivative on two guessed points whereas New Rapshon mehthod, is the derivative of a function at a single point to draw a tangent line.\n"
      ]
    }
  ]
}